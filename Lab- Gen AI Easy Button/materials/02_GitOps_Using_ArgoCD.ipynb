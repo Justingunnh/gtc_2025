{
 "cells": [
  {
   "cell_type": "markdown",
   "id": "6545b73c-61f1-4440-aae4-cbe1059d1cf0",
   "metadata": {},
   "source": [
    "<img src=\"./images/DLI_Header.png\" style=\"width: 400px;\">"
   ]
  },
  {
   "cell_type": "markdown",
   "id": "4e01e256-a4be-4fba-9a35-2bea3cc76a7e",
   "metadata": {},
   "source": [
    "# 2.0 GitOps using ArgoCD\n",
    "\n",
    "In this notebook, you'll explore an already set up Argo CD instance, connecting it to a Git repository, adding other repositories (such as Helm), and deploying a simple application using GitOps.\n",
    "\n"
   ]
  },
  {
   "cell_type": "markdown",
   "id": "16bc978b-3205-45a5-bb51-220c76b49b69",
   "metadata": {},
   "source": [
    "## ArgoCD\n",
    "\n",
    "<center><img src=\"./images-dli/argocd_architecture.png\" style=\"width: 400px;\"></center>\n",
    "\n",
    "Argo CD is a declarative, GitOps continuous delivery tool for Kubernetes. It automates the deployment and lifecycle management of applications in Kubernetes clusters by using Git repositories as the single source of truth. This methodology reduces hands on changes within a cluster helping reduce human error and maintain auditability of cluster changes.  \n",
    "\n",
    "**Key Features of Argo CD**\n",
    "- GitOps-based Deployment: Ensures that the desired state of applications is always synchronized with the Git repository.\n",
    "- Declarative Application Management: Supports Kubernetes manifests in Helm, Kustomize, Jsonnet, and plain YAML.\n",
    "- Automated Synchronization: Continuously monitors and applies updates from Git.\n",
    "- Multi-Cluster Support: Manages deployments across multiple Kubernetes clusters.\n",
    "- RBAC and SSO Integration: Supports authentication and authorization via OIDC, GitHub, LDAP, etc.\n",
    "- Web UI & CLI: Provides an intuitive UI and CLI for managing applications.\n"
   ]
  },
  {
   "cell_type": "markdown",
   "id": "3400d774-d52e-44b8-827c-dbc1c482b76e",
   "metadata": {},
   "source": [
    "## 2.1 Check the ArgoCD status\n",
    "\n",
    "We already have deployed argocd by default for you using helm chart with the following commands:\n",
    "```python\n",
    "    kubectl create ns argocd\n",
    "    helm repo add argo https://argoproj.github.io/argo-helm\n",
    "    helm repo update\n",
    "    helm upgrade --install argocd -n argocd argo/argo-cd --version 6.7.18 -f /dli/values.yaml\n",
    "```\n",
    "\n",
    "Lets check its status: "
   ]
  },
  {
   "cell_type": "markdown",
   "id": "a0e3ca08-0f5f-4df1-8f71-d69ed66ef5ab",
   "metadata": {},
   "source": [
    "### 2.1.1 Get Pods of ArgoCD\n",
    "\n",
    "Example output: \n",
    "\n",
    "```\n",
    "NAME                                               READY   STATUS    RESTARTS   AGE\n",
    "argocd-application-controller-0                    1/1     Running   0          31m\n",
    "argocd-applicationset-controller-d86f6bb77-rk2ml   1/1     Running   0          31m\n",
    "argocd-dex-server-846bb57578-9sxhk                 1/1     Running   0          31m\n",
    "argocd-notifications-controller-79c45548f9-85snv   1/1     Running   0          31m\n",
    "argocd-redis-55d588f877-rslf7                      1/1     Running   0          31m\n",
    "argocd-repo-server-6546679994-j8hs6                1/1     Running   0          31m\n",
    "argocd-server-79f597f4ff-4bx6k                     1/1     Running   0          31m\n",
    "```"
   ]
  },
  {
   "cell_type": "code",
   "execution_count": null,
   "id": "5494bb65-b17e-4c87-9da1-c87ce5ca7990",
   "metadata": {},
   "outputs": [],
   "source": [
    "!kubectl get pods -n argocd"
   ]
  },
  {
   "cell_type": "markdown",
   "id": "267fb0ac-159a-4d97-8707-ec6348877cb1",
   "metadata": {},
   "source": [
    "### 2.1.2 Get Services of ArgoCD\n",
    "\n",
    "In Kubernetes we use services to expose our application pods to the network.\n",
    "\n",
    "Example output: \n",
    "\n",
    "```\n",
    "NAME                               TYPE        CLUSTER-IP       EXTERNAL-IP   PORT(S)                      AGE\n",
    "argocd-applicationset-controller   ClusterIP   10.96.229.240    <none>        7000/TCP                     32m\n",
    "argocd-dex-server                  ClusterIP   10.108.255.86    <none>        5556/TCP,5557/TCP            32m\n",
    "argocd-redis                       ClusterIP   10.107.176.169   <none>        6379/TCP                     32m\n",
    "argocd-repo-server                 ClusterIP   10.97.56.97      <none>        8081/TCP                     32m\n",
    "argocd-server                      NodePort    10.110.251.146   <none>        80:30080/TCP,443:30443/TCP   32m\n",
    "```\n",
    "\n",
    "As you can see from above, we have two different types in our lab, ClusterIP and NodePort. ClusterIP exposes the service within our cluster to other services in that namespace, whereas our NodePort is used to expose our service on the Nodes IP address. You will also note we have port mappings, so for our argocd-server where we are enabling it to be accessed from the Nodes IP, we are mapping port 30080 to the pods port of 80. "
   ]
  },
  {
   "cell_type": "code",
   "execution_count": null,
   "id": "c0dc40b9-5b4c-4bb6-ad26-d5aaafaca08f",
   "metadata": {},
   "outputs": [],
   "source": [
    "!kubectl get svc -n argocd"
   ]
  },
  {
   "cell_type": "markdown",
   "id": "d2378bc8-5eb1-4585-b894-28bdc80eb728",
   "metadata": {},
   "source": [
    "### 2.1.3 Check if ArgoCD is ready"
   ]
  },
  {
   "cell_type": "code",
   "execution_count": null,
   "id": "717187db-aa1c-47d1-a09d-11e601cc7ea3",
   "metadata": {},
   "outputs": [],
   "source": [
    "import subprocess\n",
    "import time\n",
    "\n",
    "while True:\n",
    "    result = subprocess.run(\n",
    "        [\"kubectl\", \"rollout\", \"status\", \"deployment/argocd-server\", \"-n\", \"argocd\", \"--timeout=5s\"],\n",
    "        stdout=subprocess.PIPE,\n",
    "        stderr=subprocess.PIPE,\n",
    "        text=True\n",
    "    )\n",
    "    \n",
    "    if \"successfully rolled out\" in result.stdout:\n",
    "        print(\"ArgoCD server is ready!\")\n",
    "        break\n",
    "    else:\n",
    "        print(\"Waiting for ArgoCD server to be ready...\")\n",
    "        time.sleep(5)\n"
   ]
  },
  {
   "cell_type": "markdown",
   "id": "9c8bfa32-8ca3-4b0b-903a-f346d484ac16",
   "metadata": {},
   "source": [
    "## 2.2 Accessing Argo CD\n",
    "\n",
    "Here we will \n",
    "- Obtain the Argo CD UI URL and login credentials.\n",
    "- Log into the Argo CD web UI and explore its features:\n",
    "    - Dashboard overview\n",
    "    - Applications view\n",
    "    - Settings and project configurations\n",
    "    "
   ]
  },
  {
   "cell_type": "markdown",
   "id": "394f4561-a1c2-4d9c-8eed-04a11337c397",
   "metadata": {},
   "source": [
    "### 2.2.1 Get Argocd login credentials\n",
    "\n",
    "First time you can login with **username: admin** and the random password generated during the installation. \n",
    "\n",
    "You can find the password by running:\n",
    "\n",
    "```\n",
    "kubectl -n argocd get secret argocd-initial-admin-secret -o jsonpath=\"{.data.password}\" | base64 -d\n",
    "```"
   ]
  },
  {
   "cell_type": "code",
   "execution_count": null,
   "id": "705d67cb-103c-4cb8-b817-0d2a46e96928",
   "metadata": {},
   "outputs": [],
   "source": [
    "!kubectl -n argocd get secret argocd-initial-admin-secret -o jsonpath=\"{.data.password}\" | base64 -d"
   ]
  },
  {
   "cell_type": "markdown",
   "id": "4a4148d5-0aa2-467a-81ec-13f8a4d65bbb",
   "metadata": {},
   "source": [
    "### 2.2.2 Interact with the ArgoCD Web UI\n",
    "\n",
    "<center><img src=\"./images-dli/argocd_ui.png\" style=\"width: 800px;\"></center>\n",
    "\n",
    "\n"
   ]
  },
  {
   "cell_type": "code",
   "execution_count": null,
   "id": "b4046cb0-94e3-4b03-babb-32a37755bd8d",
   "metadata": {},
   "outputs": [],
   "source": [
    "import subprocess\n",
    "\n",
    "subprocess.Popen(\n",
    "    [\"kubectl\", \"-n\", \"argocd\", \"port-forward\", \"--address\", \"0.0.0.0\", \"service/argocd-server\", \"30009:80\"],\n",
    "    stdout=subprocess.DEVNULL,\n",
    "    stderr=subprocess.DEVNULL,\n",
    "    close_fds=True\n",
    ")"
   ]
  },
  {
   "cell_type": "markdown",
   "id": "1ff90360-659e-4b99-b173-aecb1e7aa54d",
   "metadata": {},
   "source": [
    "### 2.2.3 Get the ArgoCD Web UI URL\n"
   ]
  },
  {
   "cell_type": "markdown",
   "id": "b4db2226",
   "metadata": {},
   "source": [
    "<div class=\"alert alert-block alert-warning\">\n",
    "After logging into ArgoCD UI, check the URL, it would be something like `*/argocd/argocd/*`, please remove one extra `/argocd` from it. \n",
    "\n",
    "</div>"
   ]
  },
  {
   "cell_type": "code",
   "execution_count": null,
   "id": "2a253849-045c-4003-8ea9-ecb2e1b2b70a",
   "metadata": {},
   "outputs": [],
   "source": [
    "%%js\n",
    "const href = window.location.hostname;\n",
    "let a = document.createElement(\"a\");\n",
    "let link = document.createTextNode('Open ArgoCD UI!');\n",
    "a.appendChild(link);\n",
    "a.href = \"http://\" + href + \"/argocd\";\n",
    "a.style.cssText = \"text-decoration: none; color: white; font-size: 20px; font-weight: bold; padding: 15px 25px; background-color: #76B900; border-radius: 8px; display: inline-block; box-shadow: 2px 2px 10px rgba(0, 0, 0, 0.2);\";\n",
    "a.target = \"_blank\";\n",
    "a.style.color = \"white\";\n",
    "a.onmouseover = () => a.style.backgroundColor = \"#5a9300\";\n",
    "a.onmouseout = () => a.style.backgroundColor = \"#76B900\";\n",
    "element.appendChild(a);"
   ]
  },
  {
   "cell_type": "markdown",
   "id": "5c15ccfd-8fc5-4f48-a18b-51b55a0d87c5",
   "metadata": {},
   "source": [
    "## 2.3 Interact with ArgoCD WebUI"
   ]
  },
  {
   "cell_type": "markdown",
   "id": "01baaf2b-1280-4888-9c0b-e26a1bc1dcd7",
   "metadata": {},
   "source": [
    "### 2.3.1 ArgoCD Web UI Application View\n",
    "<center><img src=\"./images-dli/argocd_ui_application.png\" style=\"width: 800px;\"></center>\n",
    "In Argo CD, an Application is a representation of a deployed workload in a Kubernetes cluster. It defines how a set of Kubernetes manifests (from a Git repository, Helm chart, or Kustomize) should be deployed and managed.\n",
    "\n",
    "By selecting the Applications View from the left hand pane, ArgoCD displays all managed applications, their status, and sync status.\n",
    "Each application shows:\n",
    "- Health Status (e.g., Healthy, Degraded, Suspended)\n",
    "- Sync Status (e.g., Synced, OutOfSync)\n",
    "- Namespace & Destination Cluster\n",
    "  \n",
    "Clicking an application opens a detailed view, showing:\n",
    "\n",
    "- Live resource tree visualization\n",
    "- Sync history and rollback options\n",
    "- Logs and manifest comparisons    \n"
   ]
  },
  {
   "cell_type": "markdown",
   "id": "19930031-98cf-4fe6-b27e-d620f7c4db99",
   "metadata": {},
   "source": [
    "### 2.3.2 ArgoCD Web UI Settings View\n",
    "\n",
    "<center><img src=\"./images-dli/argocd_ui_settings_view2.png\" style=\"width: 800px;\"></center>\n",
    "\n",
    "Settings View (Repositories Management): Found under Settings → Repositories\n",
    "- Lists connected Git repositories, Helm repositories, and other sources.\n",
    "- Allows adding new repositories by specifying:\n",
    "    - Repository URL\n",
    "    - Authentication credentials (if needed)\n",
    "    - Repository type (Git, Helm, Kustomize, etc.)\n"
   ]
  },
  {
   "cell_type": "markdown",
   "id": "c13f89a2-8b57-4ee8-97c5-58fd209650fe",
   "metadata": {},
   "source": [
    "## 2.4 Create a GitHub repository\n",
    "\n",
    "1. Go to https://github.com\n",
    "2. login to your account, or create one if you don't have.\n",
    "3. Create a new **private** repository and call it `llmops-nvidia`.\n",
    "  "
   ]
  },
  {
   "cell_type": "markdown",
   "id": "c0895541-78f0-4912-beeb-7e2766189a4e",
   "metadata": {},
   "source": [
    "<div class=\"alert alert-block alert-warning\">\n",
    "Before proceeding, have the git repo created. It would be something like: \n",
    "\n",
    "https://github.com/github-username/llmops-nvidia\n",
    "\n",
    "</div>"
   ]
  },
  {
   "cell_type": "markdown",
   "id": "0bde120e-bc3c-49c7-af7b-1e5e8852ed3f",
   "metadata": {},
   "source": [
    "<center><img src=\"./images-dli/llmops-git-repo.png\" style=\"width: 800px;\"></center>\n"
   ]
  },
  {
   "cell_type": "markdown",
   "id": "9f1c9ee3-3f0a-4705-9b8b-0968be8c813d",
   "metadata": {},
   "source": [
    "## 2.5 Add a Deploy SSH Key to the GitHub repository\n",
    "\n",
    "Here we will be creating a SSH key and adding to your Git repository for commiting."
   ]
  },
  {
   "cell_type": "markdown",
   "id": "d7e08d94-0169-4b29-9cef-265e05b5aadf",
   "metadata": {},
   "source": [
    "### 2.5.1 Create SSH Key\n",
    "\n",
    "sample output: \n",
    "\n",
    "```\n",
    "Generating public/private ed25519 key pair.\n",
    "Your identification has been saved in /root/.ssh/id_ed25519\n",
    "Your public key has been saved in /root/.ssh/id_ed25519.pub\n",
    "\n",
    "```"
   ]
  },
  {
   "cell_type": "code",
   "execution_count": null,
   "id": "9a85958d-ce1f-46d2-930b-cdc0854f0445",
   "metadata": {},
   "outputs": [],
   "source": [
    "!ssh-keygen -t ed25519 -C \"llmops-nvidia\" -f ~/.ssh/id_ed25519 -N \"\""
   ]
  },
  {
   "cell_type": "markdown",
   "id": "81a5728f-cf13-46f2-a8c2-3a3db88b7d74",
   "metadata": {},
   "source": [
    "### 2.5.2 Copy SSH key"
   ]
  },
  {
   "cell_type": "code",
   "execution_count": null,
   "id": "1b5d796f-b35a-4a5b-875e-b17fa83c0d3c",
   "metadata": {},
   "outputs": [],
   "source": [
    "!cat ~/.ssh/id_ed25519.pub"
   ]
  },
  {
   "cell_type": "markdown",
   "id": "9e49e981-daa7-488a-a4e6-6d53d6598a82",
   "metadata": {},
   "source": [
    "<div class=\"alert alert-block alert-warning\">\n",
    "\n",
    "Copy the above output public key\n",
    "</div>"
   ]
  },
  {
   "cell_type": "markdown",
   "id": "e8222432-02e8-48fa-a770-ac82b2ee62d4",
   "metadata": {},
   "source": [
    "### 2.5.3 Add SSH key to your GitHub account. \n",
    "\n",
    "1. In the line of tabs under the repository name, click `Settings`.\n",
    "2. In the left sidebar, click `Deploy keys`.\n",
    "3. Click `Add deploy key`.\n",
    "4. In the `Title` field, add a descriptive label for the new key. For example, \"llmops-nvidia\".\n",
    "5. In the `Key` field, paste your public key.\n",
    "6. Make sure to check `Allow write access`.\n",
    "7. Click `Add key`.\n",
    "8. If prompted, confirm access to your account on GitHub.\n",
    "\n",
    "<center><img src=\"./images-dli/deploy-key.png\" style=\"width: 800px;\"></center>\n"
   ]
  },
  {
   "cell_type": "markdown",
   "id": "bc817ec9-f912-4418-b0a6-8ce121702310",
   "metadata": {},
   "source": [
    "## 2.6 Clone the llmops-nvidia repository"
   ]
  },
  {
   "cell_type": "markdown",
   "id": "4c02a2aa-caa0-4e10-a5e0-336154c8bb58",
   "metadata": {},
   "source": [
    "<div class=\"alert alert-block alert-warning\">\n",
    "\n",
    "Add the git Username\n",
    "</div>"
   ]
  },
  {
   "cell_type": "code",
   "execution_count": null,
   "id": "de726160-abb4-43b5-aafb-b11c2d495f7e",
   "metadata": {},
   "outputs": [],
   "source": [
    "print(\"Please enter your Git username:\")\n",
    "git_username = input()\n",
    "\n",
    "# Add assertions to validate the variables\n",
    "assert git_username and git_username.strip(), \"GitHub username cannot be empty\"\n"
   ]
  },
  {
   "cell_type": "code",
   "execution_count": null,
   "id": "6c983b94-d591-4912-a032-69260ab43b5d",
   "metadata": {},
   "outputs": [],
   "source": [
    "git_repo_name=\"llmops-nvidia\"\n",
    "git_base_url=\"github.com\""
   ]
  },
  {
   "cell_type": "code",
   "execution_count": null,
   "id": "6ed8c805-6755-4699-82b8-dd9ea5742af2",
   "metadata": {},
   "outputs": [],
   "source": [
    "git_repo_url=f\"git@{git_base_url}:{git_username}/{git_repo_name}.git\" \n",
    "git_repo_url_ssh=f\"ssh://git@{git_base_url}/{git_username}/{git_repo_name}.git\"\n",
    "commit_name=git_username \n",
    "commit_email=f\"{git_username}@llmops-nvidia\"\n",
    "print(git_repo_url)"
   ]
  },
  {
   "cell_type": "code",
   "execution_count": null,
   "id": "1173f5f6-5f5e-4a2c-8778-93ce300ebe0c",
   "metadata": {},
   "outputs": [],
   "source": [
    "!ssh-keyscan github.com >> ~/.ssh/known_hosts"
   ]
  },
  {
   "cell_type": "markdown",
   "id": "35d573bb-8512-4999-94e7-88bc499bab57",
   "metadata": {},
   "source": [
    "Sample output: \n",
    "\n",
    "```\n",
    "Cloning into 'llmops-nvidia'...\n",
    "warning: You appear to have cloned an empty repository.\n",
    "```"
   ]
  },
  {
   "cell_type": "code",
   "execution_count": null,
   "id": "01ee2a51-0881-4bad-bbff-3944e7bbe79c",
   "metadata": {},
   "outputs": [],
   "source": [
    "!git clone $git_repo_url llmops-nvidia"
   ]
  },
  {
   "cell_type": "code",
   "execution_count": null,
   "id": "70d9d58d-30d5-41b9-923a-b148a1b5555c",
   "metadata": {
    "scrolled": true
   },
   "outputs": [],
   "source": [
    "!find ./llmops-nvidia"
   ]
  },
  {
   "cell_type": "markdown",
   "id": "b0a0fb00-d90d-47cd-9edb-bffc95560a44",
   "metadata": {},
   "source": [
    "<div class=\"alert alert-info\">\n",
    "\n",
    "You should have an empty folder named llmops-nvidia\n",
    "</div>\n",
    "    \n"
   ]
  },
  {
   "cell_type": "markdown",
   "id": "0d79e7de-1cef-4bab-a990-b09af6d29862",
   "metadata": {},
   "source": [
    "## 2.7 Create Example ArgoCD Application\n"
   ]
  },
  {
   "cell_type": "markdown",
   "id": "5828adbf-4732-456b-9c76-e74fdcfb5143",
   "metadata": {},
   "source": [
    "<center><img src=\"./images-dli/example_flow.png\" style=\"width: 1000px;\"></center>\n"
   ]
  },
  {
   "cell_type": "markdown",
   "id": "d8d6d3c7-e259-45b6-88f8-904bd38b7b2f",
   "metadata": {},
   "source": [
    "<div class=\"alert alert-warning\">\n",
    "\n",
    "For argocd applications, we need GIT repo url in following manner: \n",
    "\n",
    "ssh://git@github.com/username/llmops-nvidia.git'\n",
    "\n",
    "</div>"
   ]
  },
  {
   "cell_type": "markdown",
   "id": "4a31225e-2c53-4eb0-8601-c2e5bb09b765",
   "metadata": {},
   "source": [
    "### 2.7.1 Add Example K8s manifests"
   ]
  },
  {
   "cell_type": "markdown",
   "id": "daecad8c-0745-461c-a84c-bdbb6003601d",
   "metadata": {},
   "source": [
    "#### 2.7.1.1 Create Folder for the K8s manifests"
   ]
  },
  {
   "cell_type": "code",
   "execution_count": null,
   "id": "2ffa5873-970d-4270-ae4c-ba1c14af29fc",
   "metadata": {},
   "outputs": [],
   "source": [
    "!mkdir -p llmops-nvidia/k8s-manifests"
   ]
  },
  {
   "cell_type": "markdown",
   "id": "75694a02-2fb2-42b9-92bd-b90621e5e13b",
   "metadata": {},
   "source": [
    "#### 2.7.1.2 Create Folder for the example application \n",
    "\n",
    "We will create a sample application for deploying `nginx`"
   ]
  },
  {
   "cell_type": "code",
   "execution_count": null,
   "id": "850e4f29-f27d-41a3-8209-1b66d4522979",
   "metadata": {},
   "outputs": [],
   "source": [
    "!mkdir -p llmops-nvidia/k8s-manifests/nginx"
   ]
  },
  {
   "cell_type": "markdown",
   "id": "76d1151b-7c30-4bba-b4cf-459a889fd986",
   "metadata": {},
   "source": [
    "#### 2.7.1.3 Add K8s manifest for the example application (nginx)\n",
    "\n",
    "We add here the Kubernetes manifest for the application: \n",
    "\n",
    "1. **Deployment**\n",
    "   \n",
    "Deployment is a good fit for managing a stateless application workload on your cluster, where any Pod in the Deployment is interchangeable and can be replaced if needed.\n",
    "\n",
    "Creating a deployment with following configuration:\n",
    "```\n",
    "name nginx-deployment\n",
    "container image: nginx\n",
    "replicas: 1\n",
    "```\n",
    "\n",
    "2. **Service**\n",
    "   \n",
    "In Kubernetes, a Service is a method for exposing a network application that is running as one or more Pods in your cluster. The Service API, part of Kubernetes, is an abstraction to help you expose groups of Pods over a network. Each Service object defines a logical set of endpoints (usually these endpoints are Pods) along with a policy about how to make those pods accessible.\n",
    "\n",
    "Kubernetes Service types allow you to specify what kind of Service you want. The available type values and their behaviors are:\n",
    "\n",
    "- **ClusterIP**: Exposes the Service on a cluster-internal IP. Choosing this value makes the Service only reachable from within the cluster. This is the default that is used if you don't explicitly specify a type for a Service. You can expose the Service to the public internet using an Ingress or a Gateway.\n",
    "\n",
    "- **NodePort**: Exposes the Service on each Node's IP at a static port (the NodePort). \n",
    "\n",
    "- **LoadBalancer**: Exposes the Service externally using an external load balancer. Kubernetes does not directly offer a load balancing component; you must provide one, or you can integrate your Kubernetes cluster with a cloud provider.\n",
    "\n",
    "- **ExternalName**: Maps the Service to the contents of the externalName field (for example, to the hostname api.foo.bar.example). The mapping configures your cluster's DNS server to return a CNAME record with that external hostname value. No proxying of any kind is set up.\n",
    "\n",
    "\n",
    " "
   ]
  },
  {
   "cell_type": "code",
   "execution_count": null,
   "id": "ea6087e8-a0ce-4281-bb19-b8a6d954ed1e",
   "metadata": {},
   "outputs": [],
   "source": [
    "# We create yaml files and save them\n",
    "\n",
    "nginx_deployment_yaml = f\"\"\"\n",
    "apiVersion: apps/v1\n",
    "kind: Deployment\n",
    "metadata:\n",
    "  name: nginx-deployment\n",
    "spec:\n",
    "  replicas: 1\n",
    "  selector:\n",
    "    matchLabels:\n",
    "      app: nginx\n",
    "  template:\n",
    "    metadata:\n",
    "      labels:\n",
    "        app: nginx\n",
    "    spec:\n",
    "      containers:\n",
    "      - name: nginx\n",
    "        image: nginx:latest\n",
    "        ports:\n",
    "        - containerPort: 80\n",
    "\"\"\"\n",
    "\n",
    "nginx_service_yaml = f\"\"\"\n",
    "apiVersion: v1\n",
    "kind: Service\n",
    "metadata:\n",
    "  name: nginx-service\n",
    "spec:\n",
    "  selector:\n",
    "    app: nginx\n",
    "  ports:\n",
    "  - protocol: TCP\n",
    "    port: 80\n",
    "    targetPort: 80\n",
    "  type: ClusterIP\n",
    "\"\"\"\n",
    "with open(\"llmops-nvidia/k8s-manifests/nginx/deployment.yaml\", \"w\") as f:\n",
    "    f.write(nginx_deployment_yaml)\n",
    "with open(\"llmops-nvidia/k8s-manifests/nginx/service.yaml\", \"w\") as f:\n",
    "    f.write(nginx_service_yaml)"
   ]
  },
  {
   "cell_type": "markdown",
   "id": "92e33cc1-1e7a-42f1-84c8-3e0aa548987b",
   "metadata": {},
   "source": [
    "### 2.7.2 Create application for tracking example NGINX  in ArgoCD"
   ]
  },
  {
   "cell_type": "code",
   "execution_count": null,
   "id": "7b3f2614-157b-4a2a-b11a-4723aee868dd",
   "metadata": {},
   "outputs": [],
   "source": [
    "!mkdir -p llmops-nvidia/applications/nginx"
   ]
  },
  {
   "cell_type": "code",
   "execution_count": null,
   "id": "697d399e-7bef-48f9-abb1-357297e9474d",
   "metadata": {},
   "outputs": [],
   "source": [
    "argocd_nginx_application_yaml = f\"\"\"\n",
    "apiVersion: argoproj.io/v1alpha1\n",
    "kind: Application\n",
    "metadata:\n",
    "  name: nginx\n",
    "  namespace: argocd\n",
    "spec:\n",
    "  destination:\n",
    "    namespace: nginx\n",
    "    server: 'https://kubernetes.default.svc'\n",
    "  source:\n",
    "    path: k8s-manifests/nginx\n",
    "    repoURL: '{git_repo_url_ssh}'\n",
    "    targetRevision: main\n",
    "    directory:\n",
    "      recurse: true\n",
    "  project: default\n",
    "  syncPolicy:\n",
    "    syncOptions:\n",
    "    - Validate=false\n",
    "    - CreateNamespace=true\n",
    "    automated:\n",
    "      prune: true\n",
    "      selfHeal: true\n",
    "      allowEmpty: false\n",
    "\"\"\"\n",
    "with open(\"llmops-nvidia/applications/nginx/app.yaml\", \"w\") as f:\n",
    "    f.write(argocd_nginx_application_yaml)"
   ]
  },
  {
   "cell_type": "markdown",
   "id": "6a66ed05-2aa2-459c-8036-1561eae6624f",
   "metadata": {},
   "source": [
    "### 2.7.3 Check directory structure now\n",
    "\n",
    "We now have the base to commit\n",
    "Example output\n",
    "\n",
    "```\n",
    "llmops-nvidia/\n",
    "├── applications\n",
    "│   └── nginx\n",
    "│       └── app.yaml\n",
    "└── k8s-manifests\n",
    "    └── nginx\n",
    "        ├── deployment.yaml\n",
    "        └── service.yaml\n",
    "```"
   ]
  },
  {
   "cell_type": "code",
   "execution_count": null,
   "id": "1bbbf04d-4ea6-4547-b6cf-6508de82d95a",
   "metadata": {},
   "outputs": [],
   "source": [
    "!tree llmops-nvidia/"
   ]
  },
  {
   "cell_type": "markdown",
   "id": "dec67392-29fd-4664-9386-30e393a53fa6",
   "metadata": {},
   "source": [
    "### 2.7.4 Commit the code\n"
   ]
  },
  {
   "cell_type": "markdown",
   "id": "8f4ab829-f086-4107-990c-7f93776c3c5e",
   "metadata": {},
   "source": [
    "#### 2.7.4.1 Configure the commit user"
   ]
  },
  {
   "cell_type": "code",
   "execution_count": null,
   "id": "34c07128-b7a5-4de9-ab23-8cc7cc03c0d4",
   "metadata": {},
   "outputs": [],
   "source": [
    "!git config --global user.email $commit_email\n",
    "!git config --global user.name $commit_name"
   ]
  },
  {
   "cell_type": "markdown",
   "id": "bc943aaa-fdce-4edd-ad76-5baa5de5bed8",
   "metadata": {},
   "source": [
    "#### 2.7.4.2 Add, commit and push to git\n",
    "\n",
    "We are directly commiting to main, but ideally you would want to create a branch and merge. But for this lab, we commit directly to git\n",
    "\n",
    "Sample output: \n",
    "\n",
    "```\n",
    "main (root-commit) 4f5f53b] add base argocd app code\n",
    " 3 files changed, 58 insertions(+)\n",
    " create mode 100644 applications/nginx/app.yaml\n",
    " create mode 100644 k8s-manifests/nginx/deployment.yaml\n",
    " create mode 100644 k8s-manifests/nginx/service.yaml\n",
    "Enumerating objects: 9, done.\n",
    "Counting objects: 100% (9/9), done.\n",
    "Delta compression using up to 96 threads\n",
    "Compressing objects: 100% (6/6), done.\n",
    "Writing objects: 100% (9/9), 1.07 KiB | 22.00 KiB/s, done.\n",
    "Total 9 (delta 0), reused 0 (delta 0), pack-reused 0\n",
    "To github.com:<username>/llmops-nvidia.git\n",
    " * [new branch]      main -> main\n",
    "```"
   ]
  },
  {
   "cell_type": "code",
   "execution_count": null,
   "id": "d2b0080f-c351-46ce-8d76-a1f326dd3428",
   "metadata": {},
   "outputs": [],
   "source": [
    "!cd llmops-nvidia/ && git add . && git commit -m \"add base argocd app code\" && git push"
   ]
  },
  {
   "cell_type": "markdown",
   "id": "b0ed5cca-5d29-4e39-820f-643bf255e355",
   "metadata": {},
   "source": [
    "### 2.7.5 Check GitHub UI for the repo\n",
    "\n",
    "<center><img src=\"./images-dli/git_repo_first_commit.png\" style=\"width: 800px;\"></center>\n",
    "\n"
   ]
  },
  {
   "cell_type": "markdown",
   "id": "15dc8c9a-664d-40ec-a0cb-7f2b82ecb883",
   "metadata": {},
   "source": [
    "## 2.8 Connecting ArgoCD to Git repo\n",
    "\n",
    "To enable GitOps workflows, Argo CD must be connected to a Git repository that contains Kubernetes manifests, Helm charts, or Kustomize configurations. This allows Argo CD to track changes and synchronize applications automatically.\n"
   ]
  },
  {
   "cell_type": "markdown",
   "id": "8256720f-977a-4a03-8ede-3230c032015c",
   "metadata": {},
   "source": [
    "We will be using the same SSH key to connect Argo CD to the Git repository. In production, you would want to use a different key for your personal access and for the CI/CD pipeline.\n",
    "\n"
   ]
  },
  {
   "cell_type": "markdown",
   "id": "16ca28a9-0269-49f0-addc-e6cf65e95650",
   "metadata": {},
   "source": [
    "### 2.8.1 Check Generated private SSH Key"
   ]
  },
  {
   "cell_type": "code",
   "execution_count": null,
   "id": "ff395f69-03bc-479a-8595-4c3c99c2bb95",
   "metadata": {},
   "outputs": [],
   "source": [
    "!cat ~/.ssh/id_ed25519"
   ]
  },
  {
   "cell_type": "markdown",
   "id": "5cdeaaed-bb9d-4cab-86e3-bfa02c5cdbc1",
   "metadata": {},
   "source": [
    "### 2.8.2 Create Secret for ArgoCD to connect to Git Repo\n",
    "\n",
    "Argo CD needs authentication credentials to connect to a Git repository. While this can be configured via the UI under Settings → Repositories, here we will use a Kubernetes Secret to store SSH credentials.\n"
   ]
  },
  {
   "cell_type": "code",
   "execution_count": null,
   "id": "e4cc6ea3-54ba-45c8-867b-fced9a3f86e1",
   "metadata": {},
   "outputs": [],
   "source": [
    "# make folder for all argocd config files\n",
    "!mkdir argocd_configs"
   ]
  },
  {
   "cell_type": "code",
   "execution_count": null,
   "id": "9fea5e9b-9a39-43fe-90f6-769d2aa4c8dc",
   "metadata": {},
   "outputs": [],
   "source": [
    "with open(\"/root/.ssh/id_ed25519\", \"r\") as f:\n",
    "    private_key = f.read().strip()  # Read the key as-is, preserving newlines\n",
    "\n",
    "# Build the YAML string properly, ensuring indentation for the SSH key\n",
    "secret_yaml = f\"\"\"apiVersion: v1\n",
    "kind: Secret\n",
    "metadata:\n",
    "  name: github-repo\n",
    "  namespace: argocd\n",
    "  labels:\n",
    "    argocd.argoproj.io/secret-type: repository\n",
    "stringData:\n",
    "  url: {git_repo_url}\n",
    "  sshPrivateKey: |\n",
    "\"\"\" + \"\\n\".join([f\"    {line}\" for line in private_key.splitlines()]) + f\"\"\"\n",
    "  insecure: \"false\" # Do not perform a host key check for the server. Defaults to \"false\"\n",
    "  enableLfs: \"false\" # Enable git-lfs for this repository. Defaults to \"false\"\n",
    "\"\"\"\n",
    "\n",
    "# Print the final YAML to verify formatting\n",
    "print(secret_yaml)\n",
    "\n",
    "# Save it to a file\n",
    "with open(\"argocd_configs/argocd-ssh-secret.yaml\", \"w\") as f:\n",
    "    f.write(secret_yaml)\n"
   ]
  },
  {
   "cell_type": "markdown",
   "id": "f7626361-fa90-405e-af75-47b0ff66382c",
   "metadata": {},
   "source": [
    "#### 2.8.2.1 Create Secret"
   ]
  },
  {
   "cell_type": "code",
   "execution_count": null,
   "id": "b32b1270-7926-4fff-b3f6-b8e6365e243f",
   "metadata": {},
   "outputs": [],
   "source": [
    "!kubectl apply -f argocd_configs/argocd-ssh-secret.yaml"
   ]
  },
  {
   "cell_type": "markdown",
   "id": "8485665a-e16f-4723-989b-18c51b1f709e",
   "metadata": {},
   "source": [
    "#### 2.8.2.2 Check Created secret\n",
    "\n",
    "Note that your secret name is: github-repo"
   ]
  },
  {
   "cell_type": "code",
   "execution_count": null,
   "id": "1a34bd8e-15a6-4cff-80ae-1a48c943785b",
   "metadata": {},
   "outputs": [],
   "source": [
    "!kubectl get secret -n argocd "
   ]
  },
  {
   "cell_type": "markdown",
   "id": "e29c3d0c-0003-490c-85fe-9cc6e958dfc1",
   "metadata": {},
   "source": [
    "#### 2.8.2.3 Check Argo CD UI for the repositories"
   ]
  },
  {
   "cell_type": "markdown",
   "id": "4396ecc2-d1b9-4608-8ee1-497c9b5be53f",
   "metadata": {},
   "source": [
    "[Open ArgoCD!](/settings/repos)\n",
    "\n",
    "<center><img src=\"./images-dli/argocd_repo_connected.png\" style=\"width: 1000px;\"></center>\n",
    "\n",
    "It should show successful"
   ]
  },
  {
   "cell_type": "markdown",
   "id": "0384f447-fcfd-4dae-bdab-942e977a8277",
   "metadata": {},
   "source": [
    "but there will be no applications even though we have added our nginx application"
   ]
  },
  {
   "cell_type": "markdown",
   "id": "aef0c062-5150-4892-9c87-9833b49284ff",
   "metadata": {},
   "source": [
    "### 2.9 Create Application to track other Applications\n",
    "\n",
    "We will create an argocd application which will track all applications under a certain folder. \n",
    "\n",
    "```\n",
    "source:\n",
    "    path: applications/\n",
    "    repoURL: 'ssh://{git_repo_url_ssh}'\n",
    "    targetRevision: main\n",
    "    directory:\n",
    "      recurse: true\n",
    "```"
   ]
  },
  {
   "cell_type": "code",
   "execution_count": null,
   "id": "32ecd72c-931f-4c2b-82e1-166d0d5522c1",
   "metadata": {},
   "outputs": [],
   "source": [
    "app_for_app_yaml = f\"\"\"\n",
    "apiVersion: argoproj.io/v1alpha1\n",
    "kind: Application\n",
    "metadata:\n",
    "  name: argocd-components\n",
    "  namespace: argocd\n",
    "spec:\n",
    "  destination:\n",
    "    namespace: argocd\n",
    "    server: 'https://kubernetes.default.svc'\n",
    "  source:\n",
    "    path: applications/\n",
    "    repoURL: '{git_repo_url_ssh}'\n",
    "    targetRevision: main\n",
    "    directory:\n",
    "      recurse: true\n",
    "  project: default\n",
    "  syncPolicy:\n",
    "    syncOptions:\n",
    "    - Validate=false\n",
    "    - CreateNamespace=true\n",
    "    automated:\n",
    "      prune: true\n",
    "      selfHeal: true\n",
    "      allowEmpty: false\n",
    "\"\"\"\n",
    "with open(\"argocd_configs/app_for_app_yaml.yaml\", \"w\") as f:\n",
    "    f.write(app_for_app_yaml)\n"
   ]
  },
  {
   "cell_type": "code",
   "execution_count": null,
   "id": "dd8fb15b-3a38-46d9-9cd0-8aa5355052d9",
   "metadata": {},
   "outputs": [],
   "source": [
    "!cat argocd_configs/app_for_app_yaml.yaml"
   ]
  },
  {
   "cell_type": "code",
   "execution_count": null,
   "id": "f788c3dd-feba-4704-b57b-9e7d5549bd3f",
   "metadata": {},
   "outputs": [],
   "source": [
    "!kubectl apply -f argocd_configs/app_for_app_yaml.yaml"
   ]
  },
  {
   "cell_type": "markdown",
   "id": "7c4f00bb-58bd-4961-8631-ca9d1624a644",
   "metadata": {},
   "source": [
    "### 2.9.1 Check Applications via CLI"
   ]
  },
  {
   "cell_type": "markdown",
   "id": "2615395f-2dc9-41ab-b2d1-df75681e77fd",
   "metadata": {},
   "source": [
    "Sample Output: \n",
    "\n",
    "```\n",
    "NAMESPACE   NAME                SYNC STATUS   HEALTH STATUS\n",
    "argocd      argocd-components   Synced        Healthy\n",
    "argocd      nginx               Synced        Healthy\n",
    "```"
   ]
  },
  {
   "cell_type": "code",
   "execution_count": null,
   "id": "0f3ef7c9-8fcc-4f2c-bb33-bafa8cf03c7e",
   "metadata": {},
   "outputs": [],
   "source": [
    "!kubectl get applications -A"
   ]
  },
  {
   "cell_type": "markdown",
   "id": "06ff23f4-94d8-4d3b-9786-7884b53b5da1",
   "metadata": {},
   "source": [
    "### 2.9.2 Sync vi UI\n",
    "As we commit our code to Git, argocd usually sync automatically after every 5 minutes. But we can force it to sync either via UI or CLI. \n",
    "\n",
    "Here we use UI to sync. \n",
    "\n",
    "Click on the sycn button on the `argocd-components` application as shown in diagram.\n",
    "<center><img src=\"./images-dli/sync-apps.png\" style=\"width: 435px\"></center>"
   ]
  },
  {
   "cell_type": "markdown",
   "id": "b3e13902-807e-498b-8038-376a5c72ed3d",
   "metadata": {},
   "source": [
    "#### 2.9.3 Check Applications via UI\n",
    "\n",
    "[Open ArgoCD!](/argocd/applications)\n",
    "\n",
    "It should show successful 2 applications"
   ]
  },
  {
   "cell_type": "markdown",
   "id": "f631a20a-800c-432e-8d15-76516477e24d",
   "metadata": {},
   "source": [
    "<center><img src=\"./images-dli/argocd-base-applications.png\" style=\"width: 800px;\"></center>\n"
   ]
  },
  {
   "cell_type": "markdown",
   "id": "07cbcb2d-86dc-44da-95e7-d8782093353e",
   "metadata": {},
   "source": [
    "---\n",
    "<h2 style=\"color:green;\">Congratulations!</h2>\n",
    "\n",
    "You've made it through the second Notebook. In this notebook, you have:\n",
    "- Discovered and explored ArgoCD UI.\n",
    "- Created a GitHub repository\n",
    "- Created an example Kubernetes manifests application files.\n",
    "- Created sample ArgoCD application for deploying example Kubernetes application.\n",
    "- Linked GitHub repository with ArgoCD.\n",
    "- Create ArgoCD application to track other ArgoCD applications.\n",
    "\n",
    "Next, you'll see learn to deploy Nemo Microservices and its components via ArgoCD.\n",
    "\n",
    "Move on to [03_Nemo_Microservices_Components_Deployment.ipynb](03_Nemo_Microservices_Components_Deployment.ipynb)"
   ]
  },
  {
   "cell_type": "markdown",
   "id": "4256e952-a4fb-4bd4-97a3-a9fbd7860f3a",
   "metadata": {},
   "source": [
    "<a href=\"https://www.nvidia.com/dli\"> <img src=\"images/DLI_Header.png\" alt=\"Header\" style=\"width: 400px;\"/> </a>"
   ]
  }
 ],
 "metadata": {
  "kernelspec": {
   "display_name": "Python 3 (ipykernel)",
   "language": "python",
   "name": "python3"
  },
  "language_info": {
   "codemirror_mode": {
    "name": "ipython",
    "version": 3
   },
   "file_extension": ".py",
   "mimetype": "text/x-python",
   "name": "python",
   "nbconvert_exporter": "python",
   "pygments_lexer": "ipython3",
   "version": "3.10.12"
  }
 },
 "nbformat": 4,
 "nbformat_minor": 5
}
