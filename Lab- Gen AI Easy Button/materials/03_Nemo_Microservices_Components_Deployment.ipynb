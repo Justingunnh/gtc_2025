{
 "cells": [
  {
   "cell_type": "markdown",
   "id": "8106c1a8-ef84-4d21-aec7-e835a278af36",
   "metadata": {},
   "source": [
    "<img src=\"./images/DLI_Header.png\" style=\"width: 400px;\">"
   ]
  },
  {
   "attachments": {},
   "cell_type": "markdown",
   "id": "d25bf6ab-9218-4651-bbe5-7c667dc2c822",
   "metadata": {},
   "source": [
    "# 3.0 Nemo Microservices Components Deployment\n",
    "\n",
    "\n",
    "The following components are deployed to support the NeMo microservice functionality:\n",
    "\n",
    "- Argo Workflows Server: Provides a workflow engine for job orchestration\n",
    "- NeMo Operator: Manages the lifecycle of custom resources used by NeMo microservices, such as training jobs\n",
    "- Volcano Admission Service: Validates custom resources such as training jobs\n",
    "- Volcano Scheduler Service: Provides batch scheduling for high-performance workloads\n",
    "\n",
    "The following databases support NeMo microservice functionality:\n",
    "\n",
    "- Milvus: Vector database storage for NeMo Evaluator\n",
    "- NeMo Customizer Database: Wraps PostgreSQL to store configurations for model customizations.\n",
    "- NeMo Evaluator Database: Wraps PostgreSQL to store configurations for model evaluations.\n",
    "- NeMo Entity Store Database: Wraps PostgreSQL to store platform-wide entities such as namespaces, models, and datasets.\n"
   ]
  },
  {
   "cell_type": "markdown",
   "id": "7c3615c2-9994-4a4f-a71d-1ba1c5ae50e7",
   "metadata": {},
   "source": [
    "## 3.0 Local Lab's Setup\n",
    "\n",
    "To make this course self-contained, we created a local registry populated with the assets (containers, models and Helm charts) that we will use in the lab.\n",
    "In order to reproduce it on your own environment, you will need minimal changes to substitute some of the resources with NGC-hosted one's. The private registry is exposed at oci://registry:5000/. Let's create global variables for the IP of the local registry and the Kubernetes Control-plane IP. Those variables will be use it in the entire notebook. # Create Global variables\n"
   ]
  },
  {
   "cell_type": "code",
   "execution_count": null,
   "id": "7350ec12-c79b-4cbe-a445-b3c45759292c",
   "metadata": {},
   "outputs": [],
   "source": [
    "# get the Kubernetes Controlplane IP\n",
    "minikube_ip=!minikube ip\n",
    "minikube_ip=minikube_ip[0]\n",
    "minikube_ip"
   ]
  },
  {
   "cell_type": "markdown",
   "id": "efca3573-65db-47f3-ac89-b4667500ef42",
   "metadata": {},
   "source": [
    "<div class=\"alert alert-block alert-warning\">\n",
    "\n",
    "Add the git Username\n",
    "</div>"
   ]
  },
  {
   "cell_type": "code",
   "execution_count": null,
   "id": "89874c88-5463-41f7-8637-56847cd73e08",
   "metadata": {},
   "outputs": [],
   "source": [
    "print(\"Please enter your Git username:\")\n",
    "git_username = input()\n",
    "\n",
    "# Add assertions to validate the variables\n",
    "assert git_username and git_username.strip(), \"GitHub username cannot be empty\"\n"
   ]
  },
  {
   "cell_type": "code",
   "execution_count": null,
   "id": "2b8593d9-4ade-4bfd-93ee-143789a9ba53",
   "metadata": {},
   "outputs": [],
   "source": [
    "git_repo_name=\"llmops-nvidia\"\n",
    "git_base_url=\"github.com\"\n",
    "applications_base_dir = \"llmops-nvidia/applications\"\n",
    "secrets_base_dir = \"llmops-nvidia/secrets\"\n",
    "ingress_base_dir = \"llmops-nvidia/ingress\""
   ]
  },
  {
   "cell_type": "code",
   "execution_count": null,
   "id": "22abd9d6-2f8b-469c-9501-eca60b0159dd",
   "metadata": {},
   "outputs": [],
   "source": [
    "git_repo_url=f\"git@{git_base_url}:{git_username}/{git_repo_name}.git\" \n",
    "git_repo_url_ssh=f\"ssh://git@{git_base_url}/{git_username}/{git_repo_name}.git\"\n",
    "commit_name=git_username \n",
    "commit_email=f\"{git_username}@llmops-nvidia\"\n",
    "print(git_repo_url)"
   ]
  },
  {
   "cell_type": "markdown",
   "id": "4f15ffe5-cdf6-4b72-8f6f-2455dacd0d7f",
   "metadata": {},
   "source": [
    "## 3.1 Add different Repos \n",
    "\n",
    "We need to add various helm repositories which are needed for deployment of nemo microservices"
   ]
  },
  {
   "cell_type": "code",
   "execution_count": null,
   "id": "1fb91694-f991-496f-97e1-1c217340ad6d",
   "metadata": {},
   "outputs": [],
   "source": [
    "helm_public_repositories = [\n",
    "    {\n",
    "        \"repository_name\": \"prometheus-community\",\n",
    "        \"repository_url\": \"https://prometheus-community.github.io/helm-charts\",\n",
    "        \"enable_oci\": \"false\"\n",
    "    },\n",
    "    {\n",
    "        \"repository_name\": \"nvidia\",\n",
    "        \"repository_url\": \"https://helm.ngc.nvidia.com/nvidia\",\n",
    "        \"enable_oci\": \"false\"\n",
    "    },\n",
    "    {\n",
    "        \"repository_name\": \"zilliztech\",\n",
    "        \"repository_url\": \"https://zilliztech.github.io/milvus-helm\",\n",
    "        \"enable_oci\": \"false\"\n",
    "    },\n",
    "    {\n",
    "        \"repository_name\": \"argo-helm\",\n",
    "        \"repository_url\": \"https://argoproj.github.io/argo-helm\",\n",
    "        \"enable_oci\": \"false\"\n",
    "    },\n",
    "    {\n",
    "        \"repository_name\": \"community-charts\",\n",
    "        \"repository_url\": \"https://community-charts.github.io/helm-charts\",\n",
    "        \"enable_oci\": \"false\"\n",
    "    },\n",
    "    {\n",
    "        \"repository_name\": \"bitnamicharts\",\n",
    "        \"repository_url\": \"registry-1.docker.io/bitnamicharts\",\n",
    "        \"enable_oci\": \"true\"\n",
    "    },\n",
    "    {\n",
    "        \"repository_name\": \"volcano-sh\",\n",
    "        \"repository_url\": \"https://volcano-sh.github.io/helm-charts\",\n",
    "        \"enable_oci\": \"false\"\n",
    "    },\n",
    "    {\n",
    "        \"repository_name\": \"langflow\",\n",
    "        \"repository_url\": \"https://langflow-ai.github.io/langflow-helm-charts\",\n",
    "        \"enable_oci\": \"false\"\n",
    "    }\n",
    "]"
   ]
  },
  {
   "cell_type": "code",
   "execution_count": null,
   "id": "42983750-18c4-4eef-ad8e-a1d3167d1a40",
   "metadata": {},
   "outputs": [],
   "source": [
    "helm_private_repositories = [\n",
    "    {\n",
    "      \"repository_name\":  \"nemo-microservices\",\n",
    "      \"repository_url\":  \"docker-registry.registry.svc.cluster.local/nvidia/nemo-microservices/charts\",\n",
    "      \"username\":  \"\",\n",
    "      \"password\": \"\",\n",
    "      \"enable_oci\": \"true\"\n",
    "    }\n",
    "]"
   ]
  },
  {
   "cell_type": "markdown",
   "id": "2edb56b1-6924-4466-ab1e-a01e4d2dad2f",
   "metadata": {},
   "source": [
    "### 3.1.1 Add public helm chart repositories in ArgoCD"
   ]
  },
  {
   "cell_type": "code",
   "execution_count": null,
   "id": "2393d71d-d431-48b2-884c-74d47db715e6",
   "metadata": {},
   "outputs": [],
   "source": [
    "import os\n",
    "# Ensure the directory exists\n",
    "output_dir = \"argocd_configs/public_repos\"\n",
    "os.makedirs(output_dir, exist_ok=True)\n",
    "\n",
    "# Loop over repositories and create YAML files\n",
    "for repo in helm_public_repositories:\n",
    "    yaml_content = f\"\"\"apiVersion: v1\n",
    "kind: Secret\n",
    "metadata:\n",
    "  name: {repo[\"repository_name\"]}\n",
    "  namespace: argocd\n",
    "  labels:\n",
    "    argocd.argoproj.io/secret-type: repository\n",
    "stringData:\n",
    "  url: {repo[\"repository_url\"]}\n",
    "  name: {repo[\"repository_name\"]}\n",
    "  type: helm\n",
    "  enableOCI: \"{repo[\"enable_oci\"]}\"\n",
    "\"\"\"\n",
    "    file_path = os.path.join(output_dir, f\"{repo['repository_name']}_repo.yaml\")\n",
    "    with open(file_path, \"w\") as f:\n",
    "        f.write(yaml_content)\n"
   ]
  },
  {
   "cell_type": "code",
   "execution_count": null,
   "id": "f8bc05ce-286c-4226-acc0-7969bf486d22",
   "metadata": {},
   "outputs": [],
   "source": [
    "!ls -l argocd_configs/public_repos"
   ]
  },
  {
   "cell_type": "code",
   "execution_count": null,
   "id": "3161e3b1-b95a-472d-86a3-e3cbb4159a2c",
   "metadata": {},
   "outputs": [],
   "source": [
    "!kubectl apply -f argocd_configs/public_repos"
   ]
  },
  {
   "cell_type": "markdown",
   "id": "bb494604-da42-40e3-bd63-ded02a3fcfd5",
   "metadata": {},
   "source": [
    "### 3.1.2 Add private helm chart repositories in ArgoCD"
   ]
  },
  {
   "cell_type": "code",
   "execution_count": null,
   "id": "339726cc-d592-4882-afa2-83eca0914423",
   "metadata": {},
   "outputs": [],
   "source": [
    "import os\n",
    "# Ensure the directory exists\n",
    "output_dir = \"argocd_configs/private_repos\"\n",
    "os.makedirs(output_dir, exist_ok=True)\n",
    "\n",
    "# Loop over repositories and create YAML files\n",
    "for repo in helm_private_repositories:\n",
    "    yaml_content = f\"\"\"apiVersion: v1\n",
    "kind: Secret\n",
    "metadata:\n",
    "  name: {repo[\"repository_name\"]}\n",
    "  namespace: argocd\n",
    "  labels:\n",
    "    argocd.argoproj.io/secret-type: repository\n",
    "stringData:\n",
    "  url: {repo[\"repository_url\"]}\n",
    "  name: {repo[\"repository_name\"]}\n",
    "  username: \"{repo[\"username\"]}\"\n",
    "  password: \"{repo[\"password\"]}\"\n",
    "  type: helm\n",
    "  enableOCI: \"{repo[\"enable_oci\"]}\"\n",
    "  insecure: \"true\"\n",
    "\"\"\"\n",
    "    file_path = os.path.join(output_dir, f\"{repo['repository_name']}_repo.yaml\")\n",
    "    with open(file_path, \"w\") as f:\n",
    "        f.write(yaml_content)\n"
   ]
  },
  {
   "cell_type": "code",
   "execution_count": null,
   "id": "5283c102-4fcb-456b-8243-9e43cb3284e6",
   "metadata": {},
   "outputs": [],
   "source": [
    "!ls -l argocd_configs/private_repos"
   ]
  },
  {
   "cell_type": "code",
   "execution_count": null,
   "id": "acf52da7-a46a-4ad6-9119-ca4d8e410bc1",
   "metadata": {},
   "outputs": [],
   "source": [
    "!kubectl apply -f argocd_configs/private_repos"
   ]
  },
  {
   "cell_type": "markdown",
   "id": "ee48633e-16c0-4331-9d8a-b3dd9ffec9e4",
   "metadata": {},
   "source": [
    "### 3.1.3 Check Argo CD UI for the repositories"
   ]
  },
  {
   "cell_type": "markdown",
   "id": "f5450bef-d272-44f3-a790-a5db75b9627f",
   "metadata": {},
   "source": [
    "[Open ArgoCD!](/argocd/settings/repos)\n",
    "\n",
    "<center><img src=\"./images-dli/repos-added-argocd.png\" style=\"width: 1000px;\"></center>\n",
    "\n",
    "It should show successful for all the 9 repositories"
   ]
  },
  {
   "cell_type": "markdown",
   "id": "9598a40b-de49-44fb-8c6a-5ca4c869114f",
   "metadata": {},
   "source": [
    "## 3.2 Create Image and Model PULL Secrets YAML file"
   ]
  },
  {
   "cell_type": "code",
   "execution_count": null,
   "id": "8f6d273e-567f-4267-bb88-f96bf7796f6c",
   "metadata": {},
   "outputs": [],
   "source": [
    "os.makedirs(f\"{secrets_base_dir}/nvcr\", exist_ok=True)"
   ]
  },
  {
   "cell_type": "code",
   "execution_count": null,
   "id": "7e70b7c1-e1e5-413e-981b-80e4ada8df96",
   "metadata": {},
   "outputs": [],
   "source": [
    "nvcr_secrets_yaml = f\"\"\"\n",
    "apiVersion: v1\n",
    "data:\n",
    "  .dockerconfigjson: eyJhdXRocyI6eyJudmNyLmlvIjp7InVzZXJuYW1lIjoiJG9hdXRodG9rZW4iLCJwYXNzd29yZCI6ImR1bW15IiwiYXV0aCI6IkpHOWhkWFJvZEc5clpXNDZaSFZ0YlhrPSJ9fX0=\n",
    "kind: Secret\n",
    "metadata:\n",
    "  name: nvcrimagepullsecret\n",
    "type: kubernetes.io/dockerconfigjson\n",
    "---\n",
    "apiVersion: v1\n",
    "data:\n",
    "  .dockerconfigjson: eyJhdXRocyI6eyJudmNyLmlvIjp7InVzZXJuYW1lIjoiJG9hdXRodG9rZW4iLCJwYXNzd29yZCI6ImR1bW15IiwiYXV0aCI6IkpHOWhkWFJvZEc5clpXNDZaSFZ0YlhrPSJ9fX0=\n",
    "kind: Secret\n",
    "metadata:\n",
    "  name: gitlab-imagepull\n",
    "type: kubernetes.io/dockerconfigjson\n",
    "---\n",
    "apiVersion: v1\n",
    "data:\n",
    "  NGC_CLI_API_KEY: ZHVtbXk=\n",
    "  NGC_API_KEY: ZHVtbXk=\n",
    "kind: Secret\n",
    "metadata:\n",
    "  name: ngc-api\n",
    "type: Opaque\n",
    "\"\"\"\n",
    "with open(f\"{secrets_base_dir}/nvcr/secret.yaml\", \"w\") as f:\n",
    "    f.write(nvcr_secrets_yaml)\n"
   ]
  },
  {
   "cell_type": "code",
   "execution_count": null,
   "id": "cef8cc80-6cfe-41fc-bf52-dca0b6c7d30b",
   "metadata": {},
   "outputs": [],
   "source": [
    "!git config --global user.email $commit_email\n",
    "!git config --global user.name $commit_user\n",
    "!cd llmops-nvidia/ && git add . && git commit -m \"add nvcr secrets\" && git push"
   ]
  },
  {
   "cell_type": "markdown",
   "id": "69244acb-cd0d-452c-9d5a-a0ec420884e0",
   "metadata": {},
   "source": [
    "## 3.3 PostgreSQL\n",
    "\n",
    "NeMo Customizer Database: Wraps PostgreSQL to store configurations for model customizations.\n",
    "NeMo Evaluator Database: Wraps PostgreSQL to store configurations for model evaluations.\n",
    "NeMo Entity Store Database: Wraps PostgreSQL to store platform-wide entities such as namespaces, models, and datasets."
   ]
  },
  {
   "cell_type": "markdown",
   "id": "0d0247c2-b19c-42c8-b1c9-eaf757e1c97e",
   "metadata": {},
   "source": [
    "### 3.3.1 Create Secrets YAML file"
   ]
  },
  {
   "cell_type": "code",
   "execution_count": null,
   "id": "7c3e3269-cc8c-4a0f-bd14-9aeb6738ade7",
   "metadata": {},
   "outputs": [],
   "source": [
    "os.makedirs(f\"{secrets_base_dir}/postgres\", exist_ok=True)"
   ]
  },
  {
   "cell_type": "code",
   "execution_count": null,
   "id": "a4c4260a-a7ab-41d7-99b5-4ac731fca9dd",
   "metadata": {},
   "outputs": [],
   "source": [
    "postgres_secrets_yaml = f\"\"\"\n",
    "apiVersion: v1\n",
    "data:\n",
    "  postgresql-admin-password: UXVYMitQMTZTUGM3  \n",
    "  postgresql-user-password: UXVYMitQMTZTUGM3  \n",
    "  postgresql-replocation-password: UXVYMitQMTZTUGM3  \n",
    "kind: Secret\n",
    "metadata:\n",
    "  name: existing-postgres-auth-secret\n",
    "type: Opaque\n",
    "\n",
    "\"\"\"\n",
    "with open(f\"{secrets_base_dir}/postgres/secret.yaml\", \"w\") as f:\n",
    "    f.write(postgres_secrets_yaml)\n"
   ]
  },
  {
   "cell_type": "markdown",
   "id": "71e1f563-ec0e-4d8f-a0cf-7aa7544ace38",
   "metadata": {},
   "source": [
    "### 3.3.2 Create PostgreSQL ArgoCD Application YAML file"
   ]
  },
  {
   "cell_type": "code",
   "execution_count": null,
   "id": "eed4c2da-e5ab-465d-95ff-014413e1eb1a",
   "metadata": {},
   "outputs": [],
   "source": [
    "os.makedirs(f\"{applications_base_dir}/postgres\", exist_ok=True)"
   ]
  },
  {
   "cell_type": "code",
   "execution_count": null,
   "id": "7eed477f-c80c-433d-8c20-9f991f9f11a4",
   "metadata": {},
   "outputs": [],
   "source": [
    "postgres_application_yaml = f\"\"\"\n",
    "apiVersion: argoproj.io/v1alpha1\n",
    "kind: Application\n",
    "metadata:\n",
    "  name: postgresql\n",
    "  namespace: argocd\n",
    "spec:\n",
    "  project: default\n",
    "  sources:\n",
    "    - chart: postgresql\n",
    "      repoURL: 'registry-1.docker.io/bitnamicharts'\n",
    "      targetRevision: \"15.5.20\"\n",
    "      helm:\n",
    "        releaseName: postgresql\n",
    "        valuesObject:\n",
    "          global:\n",
    "            defaultStorageClass: standard\n",
    "            postgresql:\n",
    "              auth:\n",
    "                username: \"nemo-user\"\n",
    "                existingSecret: existing-postgres-auth-secret\n",
    "                secretKeys:\n",
    "                  adminPasswordKey: postgresql-admin-password\n",
    "                  userPasswordKey: postgresql-user-password\n",
    "                  replicationPasswordKey: postgresql-replocation-password\n",
    "          auth:\n",
    "            enablePostgresUser: true\n",
    "            username: \"nemo-user\"\n",
    "            existingSecret: \"existing-postgres-auth-secret\"\n",
    "            secretKeys:\n",
    "              adminPasswordKey: postgresql-admin-password\n",
    "              userPasswordKey: postgresql-user-password\n",
    "              replicationPasswordKey: postgresql-replocation-password\n",
    "          architecture: standalone\n",
    "          primary:\n",
    "            service:\n",
    "              ports:\n",
    "                postgresql: 5432  \n",
    "            initdb:\n",
    "              scripts:\n",
    "                create_db.sh: |\n",
    "                  #!/bin/bash\n",
    "                  PGPASSWORD=$POSTGRES_POSTGRES_PASSWORD psql -U postgres <<< \"CREATE DATABASE \\\\\"gitea-database\\\\\"\"\n",
    "                  PGPASSWORD=$POSTGRES_POSTGRES_PASSWORD psql -U postgres <<< \"CREATE DATABASE \\\\\"api-database\\\\\"\" \n",
    "                  PGPASSWORD=$POSTGRES_POSTGRES_PASSWORD psql -U postgres <<< \"CREATE DATABASE \\\\\"finetuning\\\\\"\"\n",
    "                  PGPASSWORD=$POSTGRES_POSTGRES_PASSWORD psql -U postgres <<< \"CREATE DATABASE \\\\\"gateway\\\\\"\"\n",
    "                  PGPASSWORD=$POSTGRES_POSTGRES_PASSWORD psql -U postgres <<< \"CREATE DATABASE \\\\\"evaluation\\\\\"\"\n",
    "                  PGPASSWORD=$POSTGRES_POSTGRES_PASSWORD psql -U postgres <<< \"GRANT ALL PRIVILEGES ON DATABASE \\\\\"gitea-database\\\\\" to \\\\\"nemo-user\\\\\"\"\n",
    "                  PGPASSWORD=$POSTGRES_POSTGRES_PASSWORD psql -U postgres <<< \"GRANT ALL PRIVILEGES ON DATABASE \\\\\"api-database\\\\\" to \\\\\"nemo-user\\\\\"\"\n",
    "                  PGPASSWORD=$POSTGRES_POSTGRES_PASSWORD psql -U postgres <<< \"GRANT ALL PRIVILEGES ON DATABASE \\\\\"postgres\\\\\" to \\\\\"nemo-user\\\\\"\"\n",
    "                  PGPASSWORD=$POSTGRES_POSTGRES_PASSWORD psql -U postgres <<< \"GRANT ALL PRIVILEGES ON DATABASE \\\\\"finetuning\\\\\" to \\\\\"nemo-user\\\\\"\"\n",
    "                  PGPASSWORD=$POSTGRES_POSTGRES_PASSWORD psql -U postgres <<< \"GRANT ALL PRIVILEGES ON DATABASE \\\\\"gateway\\\\\" to \\\\\"nemo-user\\\\\"\"\n",
    "                  PGPASSWORD=$POSTGRES_POSTGRES_PASSWORD psql -U postgres <<< \"GRANT ALL PRIVILEGES ON DATABASE \\\\\"evaluation\\\\\" to \\\\\"nemo-user\\\\\"\"\n",
    "                  PGPASSWORD=$POSTGRES_POSTGRES_PASSWORD psql -U postgres <<< \"ALTER DATABASE \\\\\"gitea-database\\\\\" OWNER TO \\\\\"nemo-user\\\\\"\"\n",
    "                  PGPASSWORD=$POSTGRES_POSTGRES_PASSWORD psql -U postgres <<< \"ALTER DATABASE \\\\\"api-database\\\\\" OWNER TO \\\\\"nemo-user\\\\\"\"\n",
    "                  PGPASSWORD=$POSTGRES_POSTGRES_PASSWORD psql -U postgres <<< \"ALTER DATABASE \\\\\"finetuning\\\\\" OWNER TO \\\\\"nemo-user\\\\\"\"\n",
    "                  PGPASSWORD=$POSTGRES_POSTGRES_PASSWORD psql -U postgres <<< \"ALTER DATABASE \\\\\"postgres\\\\\" OWNER TO \\\\\"nemo-user\\\\\"\"\n",
    "                  PGPASSWORD=$POSTGRES_POSTGRES_PASSWORD psql -U postgres <<< \"ALTER DATABASE \\\\\"gateway\\\\\" OWNER TO \\\\\"nemo-user\\\\\"\"\n",
    "                  PGPASSWORD=$POSTGRES_POSTGRES_PASSWORD psql -U postgres <<< \"ALTER DATABASE \\\\\"evaluation\\\\\" OWNER TO \\\\\"nemo-user\\\\\"\"\n",
    "                  PGPASSWORD=$POSTGRES_POSTGRES_PASSWORD psql -U postgres <<< \"GRANT ALL ON SCHEMA public to \\\\\"nemo-user\\\\\"\"\n",
    "\n",
    "    - repoURL: '{git_repo_url_ssh}'\n",
    "      path: secrets/postgres\n",
    "      targetRevision: main\n",
    "      directory:\n",
    "        recurse: true    \n",
    "  destination:\n",
    "    server: 'https://kubernetes.default.svc'\n",
    "    namespace: postgresql\n",
    "  syncPolicy:\n",
    "    syncOptions:\n",
    "    - Validate=false\n",
    "    - CreateNamespace=true\n",
    "    automated:\n",
    "      prune: true\n",
    "      selfHeal: true\n",
    "      allowEmpty: false\n",
    "\"\"\"\n",
    "with open(f\"{applications_base_dir}/postgres/app.yaml\", \"w\") as f:\n",
    "    f.write(postgres_application_yaml)"
   ]
  },
  {
   "cell_type": "markdown",
   "id": "d888eeb3-6f17-4e88-b499-f4fcc3d69e0d",
   "metadata": {},
   "source": [
    "### 3.3.3 Commit the added files"
   ]
  },
  {
   "cell_type": "code",
   "execution_count": null,
   "id": "b8607f19-b05d-4542-b3d0-b02be67fd9bd",
   "metadata": {},
   "outputs": [],
   "source": [
    "!git config --global user.email $commit_email\n",
    "!git config --global user.name $commit_user\n",
    "!cd llmops-nvidia/ && git add . && git commit -m \"add postgres\" && git push"
   ]
  },
  {
   "cell_type": "markdown",
   "id": "823d1542-1824-4c13-8da3-6b762277ce22",
   "metadata": {},
   "source": [
    "### 3.3.4 Sync vi UI\n",
    "\n",
    "[Open ArgoCD!](/argocd/applications)\n",
    "\n",
    "As we have commit our code to Git, argocd usually sync automatically after every 5 minutes. But we can force it to sync either via UI or CLI. \n",
    "\n",
    "Here we use UI to sync. \n",
    "\n",
    "Click on the sycn button on the `argocd-components` application as shown in diagram. You will see `postgresql` application shown up\n",
    "\n",
    "<center><img src=\"./images-dli/sync-apps.png\" style=\"width: 435px;\"></center>"
   ]
  },
  {
   "cell_type": "markdown",
   "id": "5a4afed4-23b4-4224-adee-8ad3855f1720",
   "metadata": {},
   "source": [
    "### 3.3.5 Check applications via UI"
   ]
  },
  {
   "cell_type": "markdown",
   "id": "52b6a851-39a1-4382-97ff-8d0c83a96ab8",
   "metadata": {},
   "source": [
    "[Open ArgoCD!](/argocd/applications)\n",
    "\n",
    "<center><img src=\"./images-dli/argocd_apps_postgres.png\" style=\"width: 1000px;\"></center>\n",
    "\n",
    "It should show successful 3 applications"
   ]
  },
  {
   "cell_type": "markdown",
   "id": "10620c13-ede7-4a8e-aab9-9220fa275725",
   "metadata": {},
   "source": [
    "## 3.4 MinIO (Object Store)\n",
    "\n",
    "It is used by Nemo Datastore to store objects. "
   ]
  },
  {
   "cell_type": "markdown",
   "id": "5d0a8bd5-1a2c-40cd-9358-91b084098ab0",
   "metadata": {},
   "source": [
    "### 3.4.1 Create Secrets YAML file"
   ]
  },
  {
   "cell_type": "code",
   "execution_count": null,
   "id": "d8480927-6df8-4376-85a6-b14bef3cedaf",
   "metadata": {},
   "outputs": [],
   "source": [
    "os.makedirs(f\"{secrets_base_dir}/minio\", exist_ok=True)"
   ]
  },
  {
   "cell_type": "code",
   "execution_count": null,
   "id": "b276873c-fd9d-43ab-ab5d-97101e892620",
   "metadata": {},
   "outputs": [],
   "source": [
    "minio_secrets_yaml = f\"\"\"\n",
    "apiVersion: v1\n",
    "data:\n",
    "  username: YWRtaW4=\n",
    "  password: UXVYMitQMTZTUGM3\n",
    "kind: Secret\n",
    "metadata:\n",
    "  name: existing-minio-auth-secret\n",
    "type: Opaque\n",
    "\"\"\"\n",
    "with open(f\"{secrets_base_dir}/minio/secret.yaml\", \"w\") as f:\n",
    "    f.write(minio_secrets_yaml)\n"
   ]
  },
  {
   "cell_type": "markdown",
   "id": "b70bf2f7-8631-44e9-84b5-dda6596b38b9",
   "metadata": {},
   "source": [
    "### 3.4.2 Create Ingress YAML file"
   ]
  },
  {
   "cell_type": "code",
   "execution_count": null,
   "id": "75f5d2a9-e923-40bf-8e98-214188c2e9fe",
   "metadata": {},
   "outputs": [],
   "source": [
    "os.makedirs(f\"{ingress_base_dir}/minio\", exist_ok=True)"
   ]
  },
  {
   "cell_type": "code",
   "execution_count": null,
   "id": "20843456-ba85-48f5-b57c-df5cfcd355d7",
   "metadata": {},
   "outputs": [],
   "source": [
    "minio_secrets_yaml = f\"\"\"\n",
    "apiVersion: networking.k8s.io/v1\n",
    "kind: Ingress\n",
    "metadata:\n",
    "  name: minio-ingress\n",
    "  annotations:\n",
    "    nginx.ingress.kubernetes.io/rewrite-target: /\n",
    "spec:\n",
    "  rules:\n",
    "    - host: minio.local\n",
    "      http:\n",
    "        paths:\n",
    "          - path: /\n",
    "            pathType: Prefix\n",
    "            backend:\n",
    "              service:\n",
    "                name: minio-client \n",
    "                port:\n",
    "                  number: 9000\n",
    "\"\"\"\n",
    "with open(f\"{ingress_base_dir}/minio/ingress.yaml\", \"w\") as f:\n",
    "    f.write(minio_secrets_yaml)"
   ]
  },
  {
   "cell_type": "markdown",
   "id": "092c5f71-ade0-43fc-9e3a-82b896664d4e",
   "metadata": {},
   "source": [
    "### 3.4.3 Create Application YAML file"
   ]
  },
  {
   "cell_type": "code",
   "execution_count": null,
   "id": "6985df36-7de4-4d77-aff2-6fec5e19bf00",
   "metadata": {},
   "outputs": [],
   "source": [
    "os.makedirs(f\"{applications_base_dir}/minio\", exist_ok=True)"
   ]
  },
  {
   "cell_type": "code",
   "execution_count": null,
   "id": "d5bd341e-844e-4f4d-bee8-3280bb76f465",
   "metadata": {},
   "outputs": [],
   "source": [
    "minio_application_yaml = f\"\"\"\n",
    "apiVersion: argoproj.io/v1alpha1\n",
    "kind: Application\n",
    "metadata:\n",
    "  name: minio\n",
    "  namespace: argocd\n",
    "spec:\n",
    "  project: default\n",
    "  sources:\n",
    "    - chart: minio\n",
    "      repoURL: 'registry-1.docker.io/bitnamicharts'\n",
    "      targetRevision: \"14.6.33\"\n",
    "      helm:\n",
    "        releaseName: minio-client\n",
    "        valuesObject:\n",
    "          global:\n",
    "            defaultStorageClass: standard\n",
    "          auth:\n",
    "            existingSecret: \"existing-minio-auth-secret\"\n",
    "            rootUserSecretKey: \"username\"\n",
    "            rootPasswordSecretKey: \"password\"\n",
    "            mode: standalone\n",
    "            persistence:\n",
    "              enabled: true\n",
    "              size: 20Gi\n",
    "              storageClass: \"standard\"\n",
    "              annotations:\n",
    "                helm.sh/resource-policy: keep\n",
    "    - repoURL: '{git_repo_url_ssh}'\n",
    "      path: secrets/minio\n",
    "      targetRevision: main\n",
    "      directory:\n",
    "        recurse: true   \n",
    "    - repoURL: '{git_repo_url_ssh}'\n",
    "      path: ingress/minio\n",
    "      targetRevision: main\n",
    "      directory:\n",
    "        recurse: true  \n",
    "  destination:\n",
    "    server: 'https://kubernetes.default.svc'\n",
    "    namespace: minio\n",
    "  syncPolicy:\n",
    "    syncOptions:\n",
    "    - Validate=false\n",
    "    - CreateNamespace=true\n",
    "    automated:\n",
    "      prune: true\n",
    "      selfHeal: true\n",
    "      allowEmpty: false\n",
    "\"\"\"\n",
    "with open(f\"{applications_base_dir}/minio/app.yaml\", \"w\") as f:\n",
    "    f.write(minio_application_yaml)"
   ]
  },
  {
   "cell_type": "markdown",
   "id": "ce525e80-17e9-4682-9ac2-a3b2bf21fad2",
   "metadata": {},
   "source": [
    "### 3.4.4 Commit the added files"
   ]
  },
  {
   "cell_type": "code",
   "execution_count": null,
   "id": "a33a73a2-f868-4306-8def-62b1d0e95d91",
   "metadata": {},
   "outputs": [],
   "source": [
    "!git config --global user.email $commit_email\n",
    "!git config --global user.name $commit_user\n",
    "!cd llmops-nvidia/ && git add . && git commit -m \"add minio\" && git push"
   ]
  },
  {
   "cell_type": "markdown",
   "id": "2923221d-17db-4b13-9e06-0fec617726b2",
   "metadata": {},
   "source": [
    "### 3.4.5 Sync vi UI\n",
    "\n",
    "[Open ArgoCD!](/argocd/applications)\n",
    "\n",
    "As we have commit our code to Git, argocd usually sync automatically after every 5 minutes. But we can force it to sync either via UI or CLI. \n",
    "\n",
    "Here we use UI to sync. \n",
    "\n",
    "Click on the sycn button on the `argocd-components` application as shown in diagram. You will see `minio` application shown up\n",
    "\n",
    "<center><img src=\"./images-dli/sync-apps.png\" style=\"width: 435px;\"></center>"
   ]
  },
  {
   "cell_type": "markdown",
   "id": "55b00314-2d3d-4b71-8fde-37cb90479299",
   "metadata": {},
   "source": [
    "## 3.5 Milvus (Vector DB)"
   ]
  },
  {
   "cell_type": "markdown",
   "id": "74b22415-db84-4a3f-ba4e-4d5485ee11fe",
   "metadata": {},
   "source": [
    "### 3.5.1 Create Application YAML file"
   ]
  },
  {
   "cell_type": "code",
   "execution_count": null,
   "id": "165676fe-4be0-4f0d-a452-95786fba2ee5",
   "metadata": {},
   "outputs": [],
   "source": [
    "os.makedirs(f\"{applications_base_dir}/milvus\", exist_ok=True)"
   ]
  },
  {
   "cell_type": "code",
   "execution_count": null,
   "id": "36905a25-fa9d-48be-b2bf-7c67e74b03fb",
   "metadata": {},
   "outputs": [],
   "source": [
    "milvus_application_yaml = f\"\"\"\n",
    "apiVersion: argoproj.io/v1alpha1\n",
    "kind: Application\n",
    "metadata:\n",
    "  name: milvus\n",
    "  namespace: argocd\n",
    "spec:\n",
    "  project: default\n",
    "  sources:\n",
    "    - chart: milvus\n",
    "      repoURL: 'https://zilliztech.github.io/milvus-helm'\n",
    "      targetRevision: \"4.1.11\"\n",
    "      helm:\n",
    "        releaseName: milvus\n",
    "        valuesObject:\n",
    "          serviceName: milvus\n",
    "          cluster:\n",
    "            enabled: false\n",
    "          etcd:\n",
    "            enabled: false\n",
    "          pulsar:\n",
    "            enabled: false\n",
    "          minio:\n",
    "            enabled: false\n",
    "            tls:\n",
    "              enabled: false\n",
    "          standalone:\n",
    "            persistence:\n",
    "              enabled: true\n",
    "              persistentVolumeClaim:\n",
    "                size: 20Gi\n",
    "                storageClass: \"standard\"\n",
    "            extraEnv:\n",
    "              - name: LOG_LEVEL\n",
    "                value: error\n",
    "          extraConfigFiles:\n",
    "            user.yaml: |+\n",
    "              etcd:\n",
    "                use:\n",
    "                  embed: true\n",
    "                data:\n",
    "                  dir: /var/lib/milvus/etcd\n",
    "              common:\n",
    "                storageType: local\n",
    "  destination:\n",
    "    server: 'https://kubernetes.default.svc'\n",
    "    namespace: milvus\n",
    "  syncPolicy:\n",
    "    syncOptions:\n",
    "    - Validate=false\n",
    "    - CreateNamespace=true\n",
    "    automated:\n",
    "      prune: true\n",
    "      selfHeal: true\n",
    "      allowEmpty: false\n",
    "\"\"\"\n",
    "with open(f\"{applications_base_dir}/milvus/app.yaml\", \"w\") as f:\n",
    "    f.write(milvus_application_yaml)"
   ]
  },
  {
   "cell_type": "markdown",
   "id": "d3e5230d-7685-4729-9484-a94315bf2ace",
   "metadata": {},
   "source": [
    "### 3.5.2 Commit the added files"
   ]
  },
  {
   "cell_type": "code",
   "execution_count": null,
   "id": "1eea42de-58b6-44aa-912c-4f059afbfeca",
   "metadata": {},
   "outputs": [],
   "source": [
    "!git config --global user.email $commit_email\n",
    "!git config --global user.name $commit_user\n",
    "!cd llmops-nvidia/ && git add . && git commit -m \"add milvus\" && git push"
   ]
  },
  {
   "cell_type": "markdown",
   "id": "8dd080e6-96d8-4876-815d-6c0919b136e1",
   "metadata": {},
   "source": [
    "### 3.5.3 Sync vi UI\n",
    "[Open ArgoCD!](/argocd/applications)\n",
    "\n",
    "As we have commit our code to Git, argocd usually sync automatically after every 5 minutes. But we can force it to sync either via UI or CLI. \n",
    "\n",
    "Here we use UI to sync. \n",
    "\n",
    "Click on the sycn button on the `argocd-components` application as shown in diagram. You will see `milvus` application shown up\n",
    "\n",
    "<center><img src=\"./images-dli/sync-apps.png\" style=\"width: 435px;\"></center>"
   ]
  },
  {
   "cell_type": "markdown",
   "id": "5eef6915-aece-4db0-a15c-d6ece4f42b19",
   "metadata": {},
   "source": [
    "## 3.6 Argo Workflows"
   ]
  },
  {
   "cell_type": "markdown",
   "id": "3b10b202-c088-46f7-ab2d-cc4602bf4e60",
   "metadata": {},
   "source": [
    "### 3.6.1 Create Application YAML file"
   ]
  },
  {
   "cell_type": "code",
   "execution_count": null,
   "id": "3056fbd7-2a0b-4662-b78a-390dfcfe1b36",
   "metadata": {},
   "outputs": [],
   "source": [
    "os.makedirs(f\"{applications_base_dir}/argoworkflows\", exist_ok=True)"
   ]
  },
  {
   "cell_type": "code",
   "execution_count": null,
   "id": "9939b2fa-d55b-498e-97d4-1a2f81d7590f",
   "metadata": {},
   "outputs": [],
   "source": [
    "argoworkflows_application_yaml = f\"\"\"\n",
    "apiVersion: argoproj.io/v1alpha1\n",
    "kind: Application\n",
    "metadata:\n",
    "  name: argoworkflows\n",
    "  namespace: argocd\n",
    "spec:\n",
    "  project: default\n",
    "  sources:\n",
    "    - repoURL: 'https://argoproj.github.io/argo-helm'\n",
    "      targetRevision: 0.41.11\n",
    "      chart: argo-workflows\n",
    "      helm:\n",
    "        releaseName: argo-workflows\n",
    "        valuesObject:\n",
    "          nameOverride: argo-workflows\n",
    "          serviceName: argo-workflows-server\n",
    "          server:\n",
    "            baseHref: /\n",
    "            authModes:\n",
    "              - \"server\"\n",
    "            servicePort: 2746\n",
    "            serviceType: ClusterIP\n",
    "\n",
    "  destination:\n",
    "    server: 'https://kubernetes.default.svc'\n",
    "    namespace: argoworkflows\n",
    "  syncPolicy:\n",
    "    syncOptions:\n",
    "    - Validate=false\n",
    "    - CreateNamespace=true\n",
    "    automated:\n",
    "      prune: true\n",
    "      selfHeal: true\n",
    "      allowEmpty: false\n",
    "\"\"\"\n",
    "with open(f\"{applications_base_dir}/argoworkflows/app.yaml\", \"w\") as f:\n",
    "    f.write(argoworkflows_application_yaml)"
   ]
  },
  {
   "cell_type": "markdown",
   "id": "59e0fce3-0edb-4672-b11c-495a0c16cedc",
   "metadata": {},
   "source": [
    "### 3.6.2 Commit the added files"
   ]
  },
  {
   "cell_type": "code",
   "execution_count": null,
   "id": "12d34824-01c7-4b5f-9785-07df32010e69",
   "metadata": {},
   "outputs": [],
   "source": [
    "!git config --global user.email $commit_email\n",
    "!git config --global user.name $commit_user\n",
    "!cd llmops-nvidia/ && git add . && git commit -m \"add argoworkflows\" && git push"
   ]
  },
  {
   "cell_type": "markdown",
   "id": "b1a51e91-e5ee-4243-a996-2e8c851b62c5",
   "metadata": {},
   "source": [
    "### 3.6.3 Sync vi UI\n",
    "[Open ArgoCD!](/argocd/applications)\n",
    "\n",
    "As we have commit our code to Git, argocd usually sync automatically after every 5 minutes. But we can force it to sync either via UI or CLI. \n",
    "\n",
    "Here we use UI to sync. \n",
    "\n",
    "Click on the sycn button on the `argocd-components` application as shown in diagram. You will see `argoworkflows` application shown up\n",
    "\n",
    "<center><img src=\"./images-dli/sync-apps.png\" style=\"width: 435px;\"></center>"
   ]
  },
  {
   "cell_type": "markdown",
   "id": "eeadbb6b-5be8-420e-94e4-3d04781303a8",
   "metadata": {},
   "source": [
    "## 3.7 MLFlow\n",
    "\n",
    "MLflow is an open source platform for managing the end-to-end machine learning lifecycle. It tackles four primary functions:\n",
    "\n",
    "- Tracking experiments to record and compare parameters and results\n",
    "- Packaging ML code in a reusable, reproducible form\n",
    "- Managing and deploying models\n",
    "- Providing a central model registry\n",
    "\n",
    "<center><img src=\"./images-dli/mlflow-ui.png\" style=\"width: 800px;\"></center>\n",
    "\n"
   ]
  },
  {
   "cell_type": "markdown",
   "id": "11dff82a-3583-4a7f-9f64-af1d586bdfb5",
   "metadata": {},
   "source": [
    "### 3.7.1 Create Application YAML file"
   ]
  },
  {
   "cell_type": "code",
   "execution_count": null,
   "id": "7228a532-072a-49bc-a25c-5241d7b320c1",
   "metadata": {},
   "outputs": [],
   "source": [
    "os.makedirs(f\"{applications_base_dir}/mlflow\", exist_ok=True)"
   ]
  },
  {
   "cell_type": "code",
   "execution_count": null,
   "id": "7b254532-818b-41a6-b066-b65f24eae402",
   "metadata": {},
   "outputs": [],
   "source": [
    "mlflow_application_yaml = f\"\"\"\n",
    "apiVersion: argoproj.io/v1alpha1\n",
    "kind: Application\n",
    "metadata:\n",
    "  name: mlflow\n",
    "  namespace: argocd\n",
    "spec:\n",
    "  project: default\n",
    "  sources:\n",
    "    - chart: mlflow\n",
    "      repoURL: 'registry-1.docker.io/bitnamicharts'\n",
    "      targetRevision: \"1.4.22\"\n",
    "      helm:\n",
    "        releaseName: mlflow\n",
    "        valuesObject:\n",
    "          tracking:\n",
    "            service:\n",
    "              type: NodePort\n",
    "              nodePorts:\n",
    "                http: \"30090\"\n",
    "            auth:\n",
    "              enabled: false\n",
    "  destination:\n",
    "    server: 'https://kubernetes.default.svc'\n",
    "    namespace: mlflow\n",
    "  syncPolicy:\n",
    "    syncOptions:\n",
    "    - Validate=false\n",
    "    - CreateNamespace=true\n",
    "    automated:\n",
    "      prune: true\n",
    "      selfHeal: true\n",
    "      allowEmpty: false\n",
    "\"\"\"\n",
    "with open(f\"{applications_base_dir}/mlflow/app.yaml\", \"w\") as f:\n",
    "    f.write(mlflow_application_yaml)"
   ]
  },
  {
   "cell_type": "markdown",
   "id": "24da8125-50cc-4791-a52b-3cdafc992215",
   "metadata": {},
   "source": [
    "### 3.7.2 Commit the added files"
   ]
  },
  {
   "cell_type": "code",
   "execution_count": null,
   "id": "90b2813e-f556-4521-8ed9-9222406b29fb",
   "metadata": {},
   "outputs": [],
   "source": [
    "!git config --global user.email $commit_email\n",
    "!git config --global user.name $commit_user\n",
    "!cd llmops-nvidia/ && git add . && git commit -m \"add mlflow\" && git push"
   ]
  },
  {
   "cell_type": "markdown",
   "id": "1fc8867c-288b-4897-a374-4bf5ca20e299",
   "metadata": {},
   "source": [
    "### 3.7.3 Sync vi UI\n",
    "[Open ArgoCD!](/argocd/applications)\n",
    "\n",
    "As we have commit our code to Git, argocd usually sync automatically after every 5 minutes. But we can force it to sync either via UI or CLI. \n",
    "\n",
    "Here we use UI to sync. \n",
    "\n",
    "Click on the sycn button on the `argocd-components` application as shown in diagram. You will see `mlflow` application shown up\n",
    "\n",
    "<center><img src=\"./images-dli/sync-apps.png\" style=\"width: 435px;\"></center>"
   ]
  },
  {
   "cell_type": "markdown",
   "id": "7fc680ce-da13-4764-9098-4926b4b65ead",
   "metadata": {},
   "source": [
    "## 3.8  Volcano.sh"
   ]
  },
  {
   "cell_type": "markdown",
   "id": "11d03db4-65f0-448a-8649-c50717ef61e9",
   "metadata": {},
   "source": [
    "### 3.8.1 Create Application YAML file"
   ]
  },
  {
   "cell_type": "code",
   "execution_count": null,
   "id": "cdb281f5-0b77-495c-9ff1-a916ff75cbb5",
   "metadata": {},
   "outputs": [],
   "source": [
    "os.makedirs(f\"{applications_base_dir}/volcano\", exist_ok=True)"
   ]
  },
  {
   "cell_type": "code",
   "execution_count": null,
   "id": "5da4f9a2-ca72-4e79-bfed-27d28a85a9ae",
   "metadata": {},
   "outputs": [],
   "source": [
    "volcano_application_yaml = f\"\"\"\n",
    "apiVersion: argoproj.io/v1alpha1\n",
    "kind: Application\n",
    "metadata:\n",
    "  name: volcano\n",
    "  namespace: argocd\n",
    "spec:\n",
    "  project: default\n",
    "  source:\n",
    "    chart: volcano\n",
    "    repoURL: 'https://volcano-sh.github.io/helm-charts'\n",
    "    targetRevision: \"1.9.0\"\n",
    "    helm:\n",
    "      releaseName: volcano\n",
    "  destination:\n",
    "    server: 'https://kubernetes.default.svc'\n",
    "    namespace: volcano\n",
    "  syncPolicy:\n",
    "    syncOptions:\n",
    "    - Validate=false\n",
    "    - CreateNamespace=true\n",
    "    automated:\n",
    "      prune: true\n",
    "      selfHeal: true\n",
    "      allowEmpty: false\n",
    "\"\"\"\n",
    "with open(f\"{applications_base_dir}/volcano/app.yaml\", \"w\") as f:\n",
    "    f.write(volcano_application_yaml)"
   ]
  },
  {
   "cell_type": "markdown",
   "id": "edd190ff-884b-4da3-b816-2282d455ebdb",
   "metadata": {},
   "source": [
    "### 3.8.2 Commit the added files"
   ]
  },
  {
   "cell_type": "code",
   "execution_count": null,
   "id": "ea793211-a89b-4949-b9b0-e10349938f52",
   "metadata": {},
   "outputs": [],
   "source": [
    "!git config --global user.email $commit_email\n",
    "!git config --global user.name $commit_user\n",
    "!cd llmops-nvidia/ && git add . && git commit -m \"add volcano.sh\" && git push"
   ]
  },
  {
   "cell_type": "markdown",
   "id": "9adbd606-0293-46ed-8f99-ea30ef18b927",
   "metadata": {},
   "source": [
    "### 3.8.3 Sync vi UI\n",
    "[Open ArgoCD!](/argocd/applications)\n",
    "\n",
    "As we have commit our code to Git, argocd usually sync automatically after every 5 minutes. But we can force it to sync either via UI or CLI. \n",
    "\n",
    "Here we use UI to sync. \n",
    "\n",
    "Click on the sycn button on the `argocd-components` application as shown in diagram. You will see `volcano` application shown up\n",
    "\n",
    "<center><img src=\"./images-dli/sync-apps.png\" style=\"width: 435px;\"></center>"
   ]
  },
  {
   "cell_type": "markdown",
   "id": "5943b68f-f87b-44c4-84e9-8c60aaf37c56",
   "metadata": {},
   "source": [
    "## 3.9  NIM Operator\n",
    "\n",
    "The Operator uses the following custom resources:\n",
    "\n",
    "- nimcaches.apps.nvidia.com: This custom resource enables downloading models from NVIDIA NGC and persisting them on network storage. One advantage to caching a model is that when multiple instances of the same NIM microservice start, the microservices use the single cached model. However, caching is optional. Without caching, each NIM microservice instance downloads a copy of the model when it starts.\n",
    "\n",
    "- nimservices.apps.nvidia.com: This custom resource represents a NIM microservice. Adding and updating a NIM service resource creates a Kubernetes deployment for the microservice in a namespace. The custom resource supports using a model from an existing NIM cache resource or a persistent volume claim. The custom resource also supports creating a horizontal pod autoscaler, ingress, and service monitor to simplify cluster administration.\n",
    "\n",
    "- nimpipelines.apps.nvidia.com: This custom resource represents a group of NIM service custom resources.\n",
    "\n",
    "<center><img src=\"./images-dli/nim-operator-high-level.png\" style=\"width: 800px;\"></center>\n"
   ]
  },
  {
   "cell_type": "markdown",
   "id": "958ed70e-7667-45c0-8ce3-f3b896b0b827",
   "metadata": {},
   "source": [
    "### 3.9.1 Create Application YAML file"
   ]
  },
  {
   "cell_type": "code",
   "execution_count": null,
   "id": "94ef5aa6-773a-44f6-a8a8-a1a7733d24e6",
   "metadata": {},
   "outputs": [],
   "source": [
    "os.makedirs(f\"{applications_base_dir}/k8s-nim-operator\", exist_ok=True)"
   ]
  },
  {
   "cell_type": "code",
   "execution_count": null,
   "id": "9e0f56da-1ea6-4302-a019-59686a658146",
   "metadata": {},
   "outputs": [],
   "source": [
    "nim_operator_application_yaml = f\"\"\"\n",
    "apiVersion: argoproj.io/v1alpha1\n",
    "kind: Application\n",
    "metadata:\n",
    "  name: k8s-nim-operator\n",
    "  namespace: argocd\n",
    "spec:\n",
    "  project: default\n",
    "  sources:\n",
    "    - chart: k8s-nim-operator\n",
    "      repoURL: 'https://helm.ngc.nvidia.com/nvidia'\n",
    "      targetRevision: \"1.0.1\"\n",
    "      helm:\n",
    "        releaseName: k8s-nim-operator\n",
    "  destination:\n",
    "    server: 'https://kubernetes.default.svc'\n",
    "    namespace: k8s-nim-operator\n",
    "  syncPolicy:\n",
    "    syncOptions:\n",
    "    - Validate=false\n",
    "    - CreateNamespace=true\n",
    "    automated:\n",
    "      prune: true\n",
    "      selfHeal: true\n",
    "      allowEmpty: false\n",
    "\"\"\"\n",
    "with open(f\"{applications_base_dir}/k8s-nim-operator/app.yaml\", \"w\") as f:\n",
    "    f.write(nim_operator_application_yaml)"
   ]
  },
  {
   "cell_type": "markdown",
   "id": "5f78e5bb-e6c9-49eb-9add-96332b8b2b24",
   "metadata": {},
   "source": [
    "### 3.9.2 Commit the added files"
   ]
  },
  {
   "cell_type": "code",
   "execution_count": null,
   "id": "937c9525-6166-4df5-964c-70fe697aa994",
   "metadata": {},
   "outputs": [],
   "source": [
    "!git config --global user.email $commit_email\n",
    "!git config --global user.name $commit_user\n",
    "!cd llmops-nvidia/ && git add . && git commit -m \"add nim operator\" && git push"
   ]
  },
  {
   "cell_type": "markdown",
   "id": "1f88deaa-5b9a-4780-a0a7-93e13f8d90c8",
   "metadata": {},
   "source": [
    "### 3.9.3 Sync vi UI\n",
    "[Open ArgoCD!](/argocd/applications)\n",
    "\n",
    "As we have commit our code to Git, argocd usually sync automatically after every 5 minutes. But we can force it to sync either via UI or CLI. \n",
    "\n",
    "Here we use UI to sync. \n",
    "\n",
    "Click on the sycn button on the `argocd-components` application as shown in diagram. You will see `k9s-nim-operator` application shown up\n",
    "\n",
    "<center><img src=\"./images-dli/sync-apps.png\" style=\"width: 435px;\"></center>"
   ]
  },
  {
   "cell_type": "markdown",
   "id": "ac62ba8f-5b42-4f79-a5c9-b5b907abbe20",
   "metadata": {},
   "source": [
    "## 3.10  Nemo Operator"
   ]
  },
  {
   "cell_type": "markdown",
   "id": "41b41900-a87f-4744-ab09-add1c053e835",
   "metadata": {},
   "source": [
    "### 3.10.1 Create Application YAML file"
   ]
  },
  {
   "cell_type": "code",
   "execution_count": null,
   "id": "658400e9-858c-4fd2-a082-7ac77f73bdc3",
   "metadata": {},
   "outputs": [],
   "source": [
    "os.makedirs(f\"{applications_base_dir}/nemo-kubernetes-operator\", exist_ok=True)"
   ]
  },
  {
   "cell_type": "code",
   "execution_count": null,
   "id": "137949f7-184a-4440-8f86-e2c78f79908e",
   "metadata": {},
   "outputs": [],
   "source": [
    "nemo_operator_application_yaml = f\"\"\"\n",
    "apiVersion: argoproj.io/v1alpha1\n",
    "kind: Application\n",
    "metadata:\n",
    "  name: nemo-kubernetes-operator\n",
    "  namespace: argocd\n",
    "spec:\n",
    "  project: default\n",
    "  sources:\n",
    "    - chart: nemo-kubernetes-operator\n",
    "      repoURL: \"docker-registry.registry.svc.cluster.local/nvidia/nemo-microservices/charts\"\n",
    "      targetRevision: \"0.1.41\"\n",
    "      helm:\n",
    "        releaseName: nemo-kubernetes-operator\n",
    "        valuesObject:\n",
    "          imagePullSecrets:\n",
    "            - name: nvcrimagepullsecret\n",
    "          customizerControllerManager:\n",
    "            enabled: true\n",
    "            manager:\n",
    "              image:\n",
    "                repository: \"192.168.49.2:30500/nvidia/nemo-microservices/nemo-kubernetes-operator\"\n",
    "                tag: 25.01\n",
    "          dmsControllerManager:\n",
    "            enabled: false\n",
    "          compoundaiControllerManager:\n",
    "            enabled: false\n",
    "    - repoURL: '{git_repo_url_ssh}'\n",
    "      path: secrets/nvcr\n",
    "      targetRevision: main\n",
    "      directory:\n",
    "        recurse: true  \n",
    "  destination:\n",
    "    server: 'https://kubernetes.default.svc'\n",
    "    namespace: nemo-kubernetes-operator\n",
    "  syncPolicy:\n",
    "    syncOptions:\n",
    "    - Validate=false\n",
    "    - CreateNamespace=true\n",
    "    automated:\n",
    "      prune: true\n",
    "      selfHeal: true\n",
    "      allowEmpty: false\n",
    "\"\"\"\n",
    "with open(f\"{applications_base_dir}/nemo-kubernetes-operator/app.yaml\", \"w\") as f:\n",
    "    f.write(nemo_operator_application_yaml)"
   ]
  },
  {
   "cell_type": "markdown",
   "id": "c7352bdd-7168-4f3c-a49e-a51bd9f0a2f1",
   "metadata": {},
   "source": [
    "### 3.10.2 Commit the added files"
   ]
  },
  {
   "cell_type": "code",
   "execution_count": null,
   "id": "71cac520-dd65-4598-a476-6f989d0c7f3e",
   "metadata": {},
   "outputs": [],
   "source": [
    "!git config --global user.email $commit_email\n",
    "!git config --global user.name $commit_user\n",
    "!cd llmops-nvidia/ && git add . && git commit -m \"add nemo operator\" && git push"
   ]
  },
  {
   "cell_type": "markdown",
   "id": "c4e76814-08db-41ab-842a-ce122b1c9021",
   "metadata": {},
   "source": [
    "### 3.10.3 Sync vi UI\n",
    "[Open ArgoCD!](/argocd/applications)\n",
    "\n",
    "As we have commit our code to Git, argocd usually sync automatically after every 5 minutes. But we can force it to sync either via UI or CLI. \n",
    "\n",
    "Here we use UI to sync. \n",
    "\n",
    "Click on the sycn button on the `argocd-components` application as shown in diagram. You will see `k8s-nemo-operator` application shown up\n",
    "\n",
    "<center><img src=\"./images-dli/sync-apps.png\" style=\"width: 435px;\"></center>"
   ]
  },
  {
   "cell_type": "markdown",
   "id": "f0abff22-71b3-448d-a184-beb8487d681a",
   "metadata": {},
   "source": [
    "### 3.10.4 Check applications via UI"
   ]
  },
  {
   "cell_type": "markdown",
   "id": "eccad6fd-c689-4dae-a7c7-24c58fdc9d8a",
   "metadata": {},
   "source": [
    "[Open ArgoCD!](/argocd/applications)\n",
    "\n",
    "It should show successful 10 applications"
   ]
  },
  {
   "cell_type": "markdown",
   "id": "13e14027-5180-4241-8c70-326b8fff9bc6",
   "metadata": {},
   "source": [
    "\n",
    "<center><img src=\"./images-dli/nemo-microservices-components.png\" style=\"width: 1000px;\"></center>\n",
    "\n"
   ]
  },
  {
   "cell_type": "markdown",
   "id": "b93b5f95-de86-4534-8dac-e7a746c3bc82",
   "metadata": {},
   "source": [
    "---\n",
    "<h2 style=\"color:green;\">Congratulations!</h2>\n",
    "\n",
    "You've completed the third notebook! In this notebook, you have:\n",
    "- Added various Helm repositories to ArgoCD\n",
    "- Deployed essential components needed for NeMo Microservices as ArgoCD applications\n",
    "- Set up the infrastructure required for running NeMo Microservices\n",
    "\n",
    "Next, you'll learn how to deploy Nemo Microservices via ArgoCD.\n",
    "\n",
    "Move on to [04_Nemo_Microservices_Deployment.ipynb](04_Nemo_Microservices_Deployment.ipynb)"
   ]
  },
  {
   "cell_type": "markdown",
   "id": "e9b8019f-72a6-4279-99c9-741b251e255a",
   "metadata": {},
   "source": [
    "<a href=\"https://www.nvidia.com/dli\"> <img src=\"images/DLI_Header.png\" alt=\"Header\" style=\"width: 400px;\"/> </a>"
   ]
  }
 ],
 "metadata": {
  "kernelspec": {
   "display_name": "Python 3 (ipykernel)",
   "language": "python",
   "name": "python3"
  },
  "language_info": {
   "codemirror_mode": {
    "name": "ipython",
    "version": 3
   },
   "file_extension": ".py",
   "mimetype": "text/x-python",
   "name": "python",
   "nbconvert_exporter": "python",
   "pygments_lexer": "ipython3",
   "version": "3.10.12"
  }
 },
 "nbformat": 4,
 "nbformat_minor": 5
}
