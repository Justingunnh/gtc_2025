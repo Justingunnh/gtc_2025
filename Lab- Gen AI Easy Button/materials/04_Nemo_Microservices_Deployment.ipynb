{
 "cells": [
  {
   "cell_type": "markdown",
   "id": "8106c1a8-ef84-4d21-aec7-e835a278af36",
   "metadata": {},
   "source": [
    "<img src=\"./images/DLI_Header.png\" style=\"width: 400px;\">"
   ]
  },
  {
   "attachments": {},
   "cell_type": "markdown",
   "id": "d25bf6ab-9218-4651-bbe5-7c667dc2c822",
   "metadata": {},
   "source": [
    "# 4.0 Nemo Microservices Deployment \n",
    "\n",
    "<center><img src=\"./images-dli/nemo-microservices.png\" style=\"width: 800px;\"></center>\n",
    "\n",
    "\n",
    "Let’s take a look at NVIDIA NeMo, the end-to-end, cloud-native solution for building, customizing, and deploying generative AI models. As enterprises increasingly harness the transformative power of generative AI, a robust platform or Foundry is needed to construct and manage these sophisticated models. That's where Nvidia's NeMo comes into play.\n",
    "\n",
    "- Data Curation: The NeMo framework simplifies the often complex process of data curation. It effectively extracts, deduplicates, and filters information from massive amounts of unstructured data. This sets the stage for your training process to utilize high-quality, relevant data at scale.\n",
    "\n",
    "- Optimized Training: What makes NeMo truly unique is its ability to efficiently use GPU resources and memory across tens of thousands of nodes, leveraging distributed training with advanced parallelism techniques. By dividing the model and training data, NeMo enables maximum throughput and a significantly minimized training time.\n",
    "\n",
    "- Model Customization: The magic of NeMo unfolds as you explore its customization capabilities. Once your foundational models are trained, you can easily adapt them to a variety of tasks. Add functional skills, focus on specific domains, and implement guard rails to prevent inappropriate responses. You also have the option to continuously refine your models with techniques such as reinforcement learning, supplemented by human feedback.  Customization techniques supported by the platform include including P-tuning, SFT (Supervised Fine Tuning), Adapters, RLHF (Reinforcement Learning from Human Feedback), and AliBi. This flexibility enables the development of functional skills, focus on specific domains, and implementation of guard rails to prevent inappropriate responses.\n",
    "\n",
    "- Deployment at Scale: NeMo integrates seamlessly with the Nvidia Triton inference server to accelerate the inference process, delivering cutting-edge accuracy, low latency, and high throughput. NeMo allows for secure and efficient large-scale deployments, providing guardrails that align with safety and security requirements.\n",
    "\n"
   ]
  },
  {
   "cell_type": "markdown",
   "id": "79999db6-6677-42a0-aadb-38642e573d11",
   "metadata": {},
   "source": [
    "## 4.0 Local Lab's Setup\n",
    "\n",
    "To make this course self-contained, we created a local registry populated with the assets (containers, models and Helm charts) that we will use in the lab.\n",
    "In order to reproduce it on your own environment, you will need minimal changes to substitute some of the resources with NGC-hosted one's.\n"
   ]
  },
  {
   "cell_type": "code",
   "execution_count": null,
   "id": "362d3d40-8b81-431f-8819-eb1e93b05034",
   "metadata": {},
   "outputs": [],
   "source": [
    "# get the Kubernetes Controlplane IP\n",
    "minikube_ip=!minikube ip\n",
    "minikube_ip=minikube_ip[0]\n",
    "minikube_ip\n",
    "\n",
    "import subprocess\n",
    "import time\n",
    "\n",
    "def wait_for_rollouts(deployments, check_interval=5):\n",
    "    \"\"\"\n",
    "    Waits for all specified Kubernetes deployments to be successfully rolled out.\n",
    "\n",
    "    Parameters:\n",
    "    - deployments (list of tuples): List of (namespace, deployment_name) pairs.\n",
    "    - check_interval (int): Time in seconds to wait between rollout status checks.\n",
    "\n",
    "    Returns:\n",
    "    - None\n",
    "    \"\"\"\n",
    "    while True:\n",
    "        all_ready = True  # Flag to track if all deployments are ready\n",
    "\n",
    "        for namespace, deployment in deployments:\n",
    "            # Run kubectl rollout status command for the current deployment\n",
    "            result = subprocess.run(\n",
    "                [\"kubectl\", \"rollout\", \"status\", f\"deployment/{deployment}\", \"-n\", namespace, \"--timeout=5s\"],\n",
    "                stdout=subprocess.PIPE,\n",
    "                stderr=subprocess.PIPE,\n",
    "                text=True\n",
    "            )\n",
    "\n",
    "            # Check if the deployment is fully rolled out\n",
    "            if \"successfully rolled out\" not in result.stdout:\n",
    "                all_ready = False  # Mark that at least one deployment is not ready\n",
    "                print(f\"Waiting for {deployment} in {namespace} namespace to be ready...\")\n",
    "\n",
    "        if all_ready:\n",
    "            print(\"All deployments are ready!\")\n",
    "            break  # Exit the loop when all deployments are ready\n",
    "\n",
    "        time.sleep(check_interval)  # Wait before checking again\n"
   ]
  },
  {
   "cell_type": "markdown",
   "id": "99ef33ab-098c-41dc-b6d3-c534466fe6b2",
   "metadata": {},
   "source": [
    "### 4.0.1 Check the status of cluster\n",
    "\n",
    "Wait for all the deployments to be fully deployed before going forward\n",
    "\n",
    "\n",
    "wait until you get\n",
    "\n",
    "```\n",
    "All deployments are ready!\n",
    "\n",
    "```"
   ]
  },
  {
   "cell_type": "code",
   "execution_count": null,
   "id": "3bc9f420-4a51-451b-8daf-21e7035aad7c",
   "metadata": {},
   "outputs": [],
   "source": [
    "deployments = [\n",
    "    (\"argocd\", \"argocd-server\"),\n",
    "    (\"argoworkflows\", \"argo-workflows-server\"),\n",
    "    (\"milvus\", \"milvus-standalone\"),\n",
    "    (\"nemo-kubernetes-operator\", \"nemo-kubernetes-operator-customizer-controller-manager\"),\n",
    "    (\"volcano\", \"volcano-controllers\"),\n",
    "    (\"k8s-nim-operator\", \"k8s-nim-operator\"),\n",
    "]\n",
    "# Call the function to wait for all deployments to be ready\n",
    "wait_for_rollouts(deployments)"
   ]
  },
  {
   "cell_type": "markdown",
   "id": "36da78bd-cad8-4007-b064-249111b3f44b",
   "metadata": {},
   "source": [
    "## 4.0.2 Global Variables"
   ]
  },
  {
   "cell_type": "markdown",
   "id": "38c027a4-55f5-4411-9caa-20617a3e3d61",
   "metadata": {},
   "source": [
    "<div class=\"alert alert-block alert-warning\">\n",
    "\n",
    "Add the git Username\n",
    "</div>"
   ]
  },
  {
   "cell_type": "code",
   "execution_count": null,
   "id": "74e5217b-4917-4373-acdb-98be9a7c2ab4",
   "metadata": {},
   "outputs": [],
   "source": [
    "print(\"Please enter your Git username:\")\n",
    "git_username = input()\n",
    "\n",
    "# Add assertions to validate the variables\n",
    "assert git_username and git_username.strip(), \"GitHub username cannot be empty\"\n"
   ]
  },
  {
   "cell_type": "code",
   "execution_count": null,
   "id": "2bfaac53-58c1-4767-a219-5ab26b03c618",
   "metadata": {},
   "outputs": [],
   "source": [
    "import os\n",
    "git_repo_name=\"llmops-nvidia\"\n",
    "git_base_url=\"github.com\"\n",
    "applications_base_dir = \"llmops-nvidia/applications\"\n",
    "secrets_base_dir = \"llmops-nvidia/secrets\"\n",
    "ingress_base_dir = \"llmops-nvidia/ingress\""
   ]
  },
  {
   "cell_type": "code",
   "execution_count": null,
   "id": "6398413d-3709-4199-b015-786e59e59ad5",
   "metadata": {},
   "outputs": [],
   "source": [
    "git_repo_url=f\"git@{git_base_url}:{git_username}/{git_repo_name}.git\" \n",
    "git_repo_url_ssh=f\"ssh://git@{git_base_url}/{git_username}/{git_repo_name}.git\"\n",
    "commit_name=git_username \n",
    "commit_email=f\"{git_username}@llmops-nvidia\"\n",
    "print(git_repo_url)"
   ]
  },
  {
   "cell_type": "markdown",
   "id": "d1bf82ba-52db-44f5-bcb9-1bcfee02688c",
   "metadata": {},
   "source": [
    "## 4.1 Deploy Nemo DataStore\n",
    "\n",
    "NVIDIA NeMo Data Store (NeMo Data Store) simplifies the storage and retrieval of an ever-growing collection of models and datasets to your applications. NeMo Data Store is well integrated into the NVIDIA NeMo eco-system so that you can easily manage the life cycle of models and datasets in your projects.\n",
    "\n",
    "<center><img src=\"./images-dli/nemo_microservices_datastore.png\" style=\"width: 800px;\"></center>\n"
   ]
  },
  {
   "cell_type": "markdown",
   "id": "2e914866-c398-4700-b997-362b0212e9fe",
   "metadata": {},
   "source": [
    "### 4.1.1 Create Ingress YAML file"
   ]
  },
  {
   "cell_type": "code",
   "execution_count": null,
   "id": "69924f08-a725-4976-b4a3-6b6e2782edaa",
   "metadata": {},
   "outputs": [],
   "source": [
    "os.makedirs(f\"{ingress_base_dir}/nemo-datastore\", exist_ok=True)"
   ]
  },
  {
   "cell_type": "code",
   "execution_count": null,
   "id": "43b00a1e-e7d2-4e97-83ed-3e80c27af848",
   "metadata": {},
   "outputs": [],
   "source": [
    "minio_secrets_yaml = f\"\"\"\n",
    "apiVersion: networking.k8s.io/v1\n",
    "kind: Ingress\n",
    "metadata:\n",
    "  name: nemo-datastore-ingress\n",
    "  annotations:\n",
    "    nginx.ingress.kubernetes.io/rewrite-target: /\n",
    "spec:\n",
    "  rules:\n",
    "    - host: nemo-datastore.local\n",
    "      http:\n",
    "        paths:\n",
    "          - path: /\n",
    "            pathType: Prefix\n",
    "            backend:\n",
    "              service:\n",
    "                name: nemo-datastore \n",
    "                port:\n",
    "                  number: 3000\n",
    "\"\"\"\n",
    "with open(f\"{ingress_base_dir}/nemo-datastore/ingress.yaml\", \"w\") as f:\n",
    "    f.write(minio_secrets_yaml)"
   ]
  },
  {
   "cell_type": "markdown",
   "id": "71e1f563-ec0e-4d8f-a0cf-7aa7544ace38",
   "metadata": {},
   "source": [
    "### 4.1.2 Create Application YAML file"
   ]
  },
  {
   "cell_type": "code",
   "execution_count": null,
   "id": "eed4c2da-e5ab-465d-95ff-014413e1eb1a",
   "metadata": {},
   "outputs": [],
   "source": [
    "os.makedirs(f\"{applications_base_dir}/nemo-datastore\", exist_ok=True)"
   ]
  },
  {
   "cell_type": "code",
   "execution_count": null,
   "id": "7eed477f-c80c-433d-8c20-9f991f9f11a4",
   "metadata": {},
   "outputs": [],
   "source": [
    "datastore_application_yaml = f\"\"\"\n",
    "apiVersion: argoproj.io/v1alpha1\n",
    "kind: Application\n",
    "metadata:\n",
    "  name: nemo-datastore\n",
    "  namespace: argocd\n",
    "spec:\n",
    "  project: default\n",
    "  sources:\n",
    "    - chart: nemo-datastore\n",
    "      repoURL: 'docker-registry.registry.svc.cluster.local/nvidia/nemo-microservices/charts'\n",
    "      targetRevision: \"0.4.1\"\n",
    "      helm:\n",
    "        releaseName: nemo-datastore\n",
    "        valuesObject:\n",
    "          ingress:\n",
    "            enabled: false\n",
    "          service:\n",
    "            http:\n",
    "              clusterIP: \"\"\n",
    "          replicaCount: 1\n",
    "          image:\n",
    "            repository: {minikube_ip}:30500/nvidia/nemo-microservices/datastore\n",
    "            tag: 25.01\n",
    "          persistence:\n",
    "            enabled: true\n",
    "            claimName: datastore-shared-storage\n",
    "            size: 70Gi\n",
    "            storageClass: \"standard\"\n",
    "            accessModes:\n",
    "              - ReadWriteOnce\n",
    "          external:\n",
    "            rootUrl: \"\"\n",
    "            domain: \"\"\n",
    "          postgresql:\n",
    "            enabled: false\n",
    "          objectStore:\n",
    "            enabled: false\n",
    "            endpoint: \"minio-client.minio.svc.cluster.local:9000\"\n",
    "            bucketName: \"datastore\"\n",
    "            existingSecret: \"existing-minio-auth-secret\"\n",
    "            existingSecretAccessKey: \"username\"\n",
    "            existingSecretAccessSecret: \"password\"\n",
    "            region: \"\"\n",
    "            ssl: false\n",
    "          jwtSecret:\n",
    "            value: \"\"\n",
    "          serviceAccount:\n",
    "            create: true\n",
    "            imagePullSecrets:\n",
    "            - name: nvcrimagepullsecret\n",
    "            name: datastore\n",
    "          strategy:\n",
    "            type: Recreate\n",
    "          externalDatabase:\n",
    "            host: \"postgresql.postgresql.svc.cluster.local\"\n",
    "            port: 5432\n",
    "            user: \"nemo-user\"\n",
    "            database: \"api-database\"\n",
    "            sslMode: \"disable\"\n",
    "            existingSecret: \"existing-postgres-auth-secret\"\n",
    "            existingSecretPasswordKey: \"postgresql-admin-password\"\n",
    "\n",
    "    - repoURL: '{git_repo_url_ssh}'\n",
    "      path: secrets/minio\n",
    "      targetRevision: main\n",
    "      directory:\n",
    "        recurse: true \n",
    "    - repoURL: '{git_repo_url_ssh}'\n",
    "      path: secrets/postgres\n",
    "      targetRevision: main\n",
    "      directory:\n",
    "        recurse: true   \n",
    "    - repoURL: '{git_repo_url_ssh}'\n",
    "      path: secrets/nvcr\n",
    "      targetRevision: main\n",
    "      directory:\n",
    "        recurse: true  \n",
    "    - repoURL: '{git_repo_url_ssh}'\n",
    "      path: ingress/nemo-datastore\n",
    "      targetRevision: main\n",
    "      directory:\n",
    "        recurse: true  \n",
    "  destination:\n",
    "    server: 'https://kubernetes.default.svc'\n",
    "    namespace: nemo-datastore\n",
    "  syncPolicy:\n",
    "    syncOptions:\n",
    "    - Validate=false\n",
    "    - CreateNamespace=true\n",
    "    automated:\n",
    "      prune: true\n",
    "      selfHeal: true\n",
    "      allowEmpty: false\n",
    "\"\"\"\n",
    "with open(f\"{applications_base_dir}/nemo-datastore/app.yaml\", \"w\") as f:\n",
    "    f.write(datastore_application_yaml)"
   ]
  },
  {
   "cell_type": "markdown",
   "id": "d888eeb3-6f17-4e88-b499-f4fcc3d69e0d",
   "metadata": {},
   "source": [
    "### 4.1.3 Commit the added files"
   ]
  },
  {
   "cell_type": "code",
   "execution_count": null,
   "id": "b8607f19-b05d-4542-b3d0-b02be67fd9bd",
   "metadata": {},
   "outputs": [],
   "source": [
    "!git config --global user.email $commit_email\n",
    "!git config --global user.name $commit_user\n",
    "!cd llmops-nvidia/ && git add . && git commit -m \"add nemo-datastore\" && git push"
   ]
  },
  {
   "cell_type": "markdown",
   "id": "ea600607-905a-4677-acf4-44826f89a9e5",
   "metadata": {},
   "source": [
    "### 4.1.4 Sync vi UI\n",
    "As we have commit our code to Git, argocd usually sync automatically after every 5 minutes. But we can force it to sync either via UI or CLI. \n",
    "\n",
    "Here we use UI to sync. \n",
    "\n",
    "Click on the sycn button on the `argocd-components` application as shown in diagram. You will see `nemo-datastore` application shown up\n",
    "\n",
    "<img src=\"./images-dli/sync-apps.png\" style=\"width: 435px; float: left\">\n",
    "<img src=\"./images-dli/nemo-datastore-app.png\" style=\"width: 500px; float: right\">\n"
   ]
  },
  {
   "cell_type": "markdown",
   "id": "bc8ee8b6-e562-498a-b847-17d5d2fdc7ad",
   "metadata": {},
   "source": [
    "### 4.1.5 Wait for the nemo-datastore to run before we move forward"
   ]
  },
  {
   "cell_type": "code",
   "execution_count": null,
   "id": "3b2a25a0-b312-467f-bbd4-9547b9fb9b40",
   "metadata": {},
   "outputs": [],
   "source": [
    "!kubectl get deployments -n nemo-datastore"
   ]
  },
  {
   "cell_type": "code",
   "execution_count": null,
   "id": "ad792eb8-0126-453e-9cb5-f3b7865d0db5",
   "metadata": {},
   "outputs": [],
   "source": [
    "deployments = [\n",
    "    (\"nemo-datastore\", \"nemo-datastore\"),\n",
    "]\n",
    "# Call the function to wait for nemo-datastore deployment to be ready\n",
    "wait_for_rollouts(deployments)"
   ]
  },
  {
   "cell_type": "markdown",
   "id": "1f7eb48c-9ed4-44ec-9364-456331808c69",
   "metadata": {},
   "source": [
    "## 4.2 Deploy Nemo EntityStore\n",
    "\n",
    "NeMo Entity Store is a microservice for managing platform-wide entities such as namespaces, models, and datasets within the NeMo microservices platform.\n",
    "\n",
    "\n",
    "NeMo Entity Store manages the following entities.\n",
    "\n",
    "- Namespaces: Namespaces are logical groupings of related resources such as models, datasets, and projects, within the NeMo microservices platform. They help organize resources for efficient access and management.\n",
    "- Models: Models represent machine learning models available for various operations such as inference and fine-tuning. Models include foundational models, fine-tuned models, or those optimized with specific techniques such as LoRA.\n",
    "- Datasets: Datasets are collections of data for machine learning tasks such as fine-tuning and evaluation.\n"
   ]
  },
  {
   "cell_type": "markdown",
   "id": "3240d454-0f29-48c5-a7e4-6d9f2bf1f0bf",
   "metadata": {},
   "source": [
    "### 4.2.1 Create Ingress YAML file"
   ]
  },
  {
   "cell_type": "code",
   "execution_count": null,
   "id": "2e1ed508-3a73-4df4-8bcb-06383b4f2268",
   "metadata": {},
   "outputs": [],
   "source": [
    "os.makedirs(f\"{ingress_base_dir}/nemo-entity-store\", exist_ok=True)"
   ]
  },
  {
   "cell_type": "code",
   "execution_count": null,
   "id": "7819ef31-dfa5-42ea-b027-be4013452653",
   "metadata": {},
   "outputs": [],
   "source": [
    "entity_store_ingress_yaml = f\"\"\"\n",
    "apiVersion: networking.k8s.io/v1\n",
    "kind: Ingress\n",
    "metadata:\n",
    "  name: nemo-entity-store-ingress\n",
    "  annotations:\n",
    "    nginx.ingress.kubernetes.io/rewrite-target: /\n",
    "spec:\n",
    "  rules:\n",
    "    - host: nemo-entity-store.local\n",
    "      http:\n",
    "        paths:\n",
    "          - path: /\n",
    "            pathType: Prefix\n",
    "            backend:\n",
    "              service:\n",
    "                name: nemo-entity-store\n",
    "                port:\n",
    "                  number: 8000\n",
    "\"\"\"\n",
    "with open(f\"{ingress_base_dir}/nemo-entity-store/ingress.yaml\", \"w\") as f:\n",
    "    f.write(entity_store_ingress_yaml)"
   ]
  },
  {
   "cell_type": "markdown",
   "id": "d1f5eadf-1cad-48f8-807b-39171c101fab",
   "metadata": {},
   "source": [
    "### 4.2.2 Create Application YAML file"
   ]
  },
  {
   "cell_type": "code",
   "execution_count": null,
   "id": "85c6d81b-d475-49de-8883-c1c49a00e81c",
   "metadata": {},
   "outputs": [],
   "source": [
    "os.makedirs(f\"{applications_base_dir}/nemo-entity-store\", exist_ok=True)"
   ]
  },
  {
   "cell_type": "code",
   "execution_count": null,
   "id": "8c93603f-ce43-435b-be9b-6febf3c1a1ae",
   "metadata": {},
   "outputs": [],
   "source": [
    "entity_store_application_yaml = f\"\"\"\n",
    "apiVersion: argoproj.io/v1alpha1\n",
    "kind: Application\n",
    "metadata:\n",
    "  name: nemo-entity-store\n",
    "  namespace: argocd\n",
    "spec:\n",
    "  project: default\n",
    "  sources:\n",
    "    - chart: nemo-entity-store\n",
    "      repoURL: 'docker-registry.registry.svc.cluster.local/nvidia/nemo-microservices/charts'\n",
    "      targetRevision: \"0.1.0\"\n",
    "      helm:\n",
    "        releaseName: nemo-entity-store\n",
    "        valuesObject:\n",
    "          imagePullSecrets:\n",
    "            - name: nvcrimagepullsecret\n",
    "          image:\n",
    "            repository: {minikube_ip}:30500/nvidia/nemo-microservices/nemo-entity-store\n",
    "            tag: 25.01\n",
    "          postgresql:\n",
    "            enabled: false\n",
    "          appConfig:\n",
    "            BASE_URL_NIM: http://meta-llama3-1-8b-instruct.llama3-1-8b-instruct.svc.cluster.local:8000\n",
    "            BASE_URL_DATASTORE: http://nemo-datastore.nemo-datastore.svc.cluster.local:3000/v1/hf\n",
    "                        \n",
    "          externalDatabase:\n",
    "            host: \"postgresql.postgresql.svc.cluster.local\"\n",
    "            port: 5432\n",
    "            user: \"nemo-user\"\n",
    "            password: \"QuX2+P16SPc7\"\n",
    "            database: \"gateway\"\n",
    "            sslMode: \"disable\"\n",
    "            existingSecret: \"existing-postgres-auth-secret\"\n",
    "            existingSecretPasswordKey: \"postgresql-admin-password\"\n",
    "    - repoURL: '{git_repo_url_ssh}'\n",
    "      path: secrets/postgres\n",
    "      targetRevision: main\n",
    "      directory:\n",
    "        recurse: true   \n",
    "    - repoURL: '{git_repo_url_ssh}'\n",
    "      path: secrets/nvcr\n",
    "      targetRevision: main\n",
    "      directory:\n",
    "        recurse: true  \n",
    "    - repoURL: '{git_repo_url_ssh}'\n",
    "      path: ingress/nemo-entity-store\n",
    "      targetRevision: main\n",
    "      directory:\n",
    "        recurse: true  \n",
    "  destination:\n",
    "    server: 'https://kubernetes.default.svc'\n",
    "    namespace: nemo-entity-store\n",
    "  syncPolicy:\n",
    "    syncOptions:\n",
    "    - Validate=false\n",
    "    - CreateNamespace=true\n",
    "    automated:\n",
    "      prune: true\n",
    "      selfHeal: true\n",
    "      allowEmpty: false\n",
    "\"\"\"\n",
    "with open(f\"{applications_base_dir}/nemo-entity-store/app.yaml\", \"w\") as f:\n",
    "    f.write(entity_store_application_yaml)"
   ]
  },
  {
   "cell_type": "markdown",
   "id": "6f59ab97-85b6-4cbb-bce4-0b59b314b926",
   "metadata": {},
   "source": [
    "### 4.2.3 Commit the added files"
   ]
  },
  {
   "cell_type": "code",
   "execution_count": null,
   "id": "d64b2d99-b35d-4234-b3f0-5f0c454917ab",
   "metadata": {},
   "outputs": [],
   "source": [
    "!git config --global user.email $commit_email\n",
    "!git config --global user.name $commit_user\n",
    "!cd llmops-nvidia/ && git add . && git commit -m \"add nemo-entity-store\" && git push"
   ]
  },
  {
   "cell_type": "markdown",
   "id": "941701be-5c08-4328-bf3e-6c8e0a19737d",
   "metadata": {},
   "source": [
    "### 4.2.4 Sync vi UI\n",
    "As we have commit our code to Git, argocd usually sync automatically after every 5 minutes. But we can force it to sync either via UI or CLI. \n",
    "\n",
    "Here we use UI to sync. \n",
    "\n",
    "Click on the sycn button on the `argocd-components` application as shown in diagram. You will see `nemo-entity-store` application shown up\n",
    "\n",
    "<img src=\"./images-dli/sync-apps.png\" style=\"width: 435px; float: left\">\n",
    "<img src=\"./images-dli/nemo-entity-store-app.png\" style=\"width: 500px; float: right\">\n"
   ]
  },
  {
   "cell_type": "markdown",
   "id": "5927e65f-2037-4f44-b5a6-d36b49521b7c",
   "metadata": {},
   "source": [
    "### 4.2.5 Wait for the nemo-entity-store to run before we move forward"
   ]
  },
  {
   "cell_type": "code",
   "execution_count": null,
   "id": "b5720fd5-2cdc-47ed-bc8a-fcd856c108d4",
   "metadata": {},
   "outputs": [],
   "source": [
    "!kubectl get deployments -n nemo-entity-store"
   ]
  },
  {
   "cell_type": "code",
   "execution_count": null,
   "id": "836711ff-2866-4b11-a4cf-94b9f25b22ae",
   "metadata": {},
   "outputs": [],
   "source": [
    "deployments = [\n",
    "    (\"nemo-entity-store\", \"nemo-entity-store\"),\n",
    "]\n",
    "# Call the function to wait for nemo-datastore deployment to be ready\n",
    "wait_for_rollouts(deployments)"
   ]
  },
  {
   "cell_type": "markdown",
   "id": "fb71df5d-7e22-4b05-b0ba-9dee63d00d9f",
   "metadata": {},
   "source": [
    "## 4.3  LLM NIM Deployment"
   ]
  },
  {
   "cell_type": "markdown",
   "id": "4b881d38-b8a4-4132-a9fb-f50c7b8272ad",
   "metadata": {},
   "source": [
    "<center><img src=\"./images-dli/nim_service.png\" style=\"width: 350px;\"></center>\n"
   ]
  },
  {
   "cell_type": "code",
   "execution_count": null,
   "id": "5e90f005-eda1-444a-9fb1-8732c82f5f31",
   "metadata": {},
   "outputs": [],
   "source": [
    "os.makedirs(f\"llmops-nvidia/k8s-manifests/llama3-1-8b-instruct\", exist_ok=True)"
   ]
  },
  {
   "cell_type": "markdown",
   "id": "b0302778-cf20-448c-9f97-aea105db5c4f",
   "metadata": {},
   "source": [
    "### 4.3.1 Create PVC and PV YAML file"
   ]
  },
  {
   "cell_type": "code",
   "execution_count": null,
   "id": "f25fe201-dfc9-4269-9522-0b90eba3c317",
   "metadata": {},
   "outputs": [],
   "source": [
    "nim_pvc_yaml = f\"\"\"\n",
    "kind: PersistentVolume\n",
    "apiVersion: v1\n",
    "metadata:\n",
    "  name: nim-llm-pv\n",
    "  labels:\n",
    "    type: local\n",
    "spec:\n",
    "  capacity:\n",
    "    storage: \"50Gi\"\n",
    "  storageClassName: manual\n",
    "  accessModes:\n",
    "    - \"ReadWriteMany\"\n",
    "  persistentVolumeReclaimPolicy: Retain\n",
    "  claimRef:\n",
    "    namespace: llama3-1-8b-instruct\n",
    "    name: nim-llm-pvc\n",
    "  hostPath:\n",
    "    path: \"/inference-model-data\"\n",
    "---\n",
    "kind: PersistentVolumeClaim\n",
    "apiVersion: v1\n",
    "metadata:\n",
    "  name: nim-llm-pvc\n",
    "  labels:\n",
    "    app.kubernetes.io/name: nim-llm-pvc\n",
    "spec:\n",
    "  accessModes:\n",
    "    - \"ReadWriteMany\"\n",
    "  storageClassName: manual\n",
    "  resources:\n",
    "    requests:\n",
    "      storage: \"50Gi\"\n",
    "\"\"\"\n",
    "with open(\"llmops-nvidia/k8s-manifests/llama3-1-8b-instruct/nim-pvc.yaml\", \"w\") as f:\n",
    "    f.write(nim_pvc_yaml)"
   ]
  },
  {
   "cell_type": "markdown",
   "id": "04e375da-805c-48b4-b56d-0f1c45a9b344",
   "metadata": {},
   "source": [
    "### 4.3.2 Create NIMService YAML file"
   ]
  },
  {
   "cell_type": "code",
   "execution_count": null,
   "id": "e94d1bbe-ead5-41e9-8893-5f5f558caa33",
   "metadata": {},
   "outputs": [],
   "source": [
    "nim_service_yaml = f\"\"\"\n",
    "apiVersion: apps.nvidia.com/v1alpha1\n",
    "kind: NIMService\n",
    "metadata:\n",
    "  name: meta-llama3-1-8b-instruct\n",
    "spec:\n",
    "  image:\n",
    "    repository: \"{minikube_ip}:30500/nvidia/nemo-microservices/llama-3.1-8b-instruct\"\n",
    "    tag: \"1.5\"\n",
    "    pullPolicy: IfNotPresent\n",
    "  authSecret: ngc-api\n",
    "  env:\n",
    "  - name: NIM_DISABLE_MODEL_DOWNLOAD\n",
    "    value: \"true\"\n",
    "  - name: NIM_IGNORE_MODEL_DOWNLOAD_FAIL \n",
    "    value: \"true\"\n",
    "  - name: NIM_MANIFEST_PROFILE\n",
    "    value: \"7b8458eb682edb0d2a48b4019b098ba0bfbc4377aadeeaa11b346c63c7adf724\"\n",
    "  - name: NIM_MODEL_PROFILE\n",
    "    value: \"7b8458eb682edb0d2a48b4019b098ba0bfbc4377aadeeaa11b346c63c7adf724\"\n",
    "  - name: NIM_MODEL_NAME\n",
    "    value: \"/model-store\"\n",
    "  - name: NIM_PEFT_SOURCE\n",
    "    value: http://nemo-entity-store.nemo-entity-store.svc.cluster.local:8000\n",
    "  - name: NIM_PEFT_REFRESH_INTERVAL\n",
    "    value: \"30\"\n",
    "  storage:\n",
    "    pvc:\n",
    "      name: \"nim-llm-pvc\"\n",
    "  replicas: 1\n",
    "  resources:\n",
    "    limits:\n",
    "      nvidia.com/gpu: 1\n",
    "  expose:\n",
    "    service:\n",
    "      type: ClusterIP\n",
    "      port: 8000\n",
    "\"\"\"\n",
    "with open(\"llmops-nvidia/k8s-manifests/llama3-1-8b-instruct/nim-service.yaml\", \"w\") as f:\n",
    "    f.write(nim_service_yaml)"
   ]
  },
  {
   "cell_type": "markdown",
   "id": "8858edb6-a4fb-4015-a3a4-6c4bb78f2012",
   "metadata": {},
   "source": [
    "### 4.3.3 Create Ingress YAML file"
   ]
  },
  {
   "cell_type": "code",
   "execution_count": null,
   "id": "5018ce7e-161a-4aac-bf36-96bfaffb8ad7",
   "metadata": {},
   "outputs": [],
   "source": [
    "os.makedirs(f\"{ingress_base_dir}/llama3-1-8b-instruct\", exist_ok=True)"
   ]
  },
  {
   "cell_type": "code",
   "execution_count": null,
   "id": "ce329837-98b4-4503-b218-78ae3c783145",
   "metadata": {},
   "outputs": [],
   "source": [
    "nim_ingress_yaml = f\"\"\"\n",
    "apiVersion: networking.k8s.io/v1\n",
    "kind: Ingress\n",
    "metadata:\n",
    "  name: llama3-1-8b-instruct-ingress\n",
    "  annotations:\n",
    "    nginx.ingress.kubernetes.io/rewrite-target: /\n",
    "spec:\n",
    "  rules:\n",
    "    - host: llama3-1-8b-instruct.local\n",
    "      http:\n",
    "        paths:\n",
    "          - path: /\n",
    "            pathType: Prefix\n",
    "            backend:\n",
    "              service:\n",
    "                name: meta-llama3-1-8b-instruct\n",
    "                port:\n",
    "                  number: 8000\n",
    "\"\"\"\n",
    "with open(f\"{ingress_base_dir}/llama3-1-8b-instruct/ingress.yaml\", \"w\") as f:\n",
    "    f.write(nim_ingress_yaml)"
   ]
  },
  {
   "cell_type": "markdown",
   "id": "03323f26-4216-43bc-8b52-bf685839b754",
   "metadata": {},
   "source": [
    "### 4.3.4 Create Application YAML file"
   ]
  },
  {
   "cell_type": "code",
   "execution_count": null,
   "id": "9bf5e150-1805-4b90-8d65-ae572353238d",
   "metadata": {},
   "outputs": [],
   "source": [
    "os.makedirs(f\"{applications_base_dir}/llama3-1-8b-instruct\", exist_ok=True)"
   ]
  },
  {
   "cell_type": "code",
   "execution_count": null,
   "id": "b152783a-71ff-4e08-891d-9146920f5a97",
   "metadata": {},
   "outputs": [],
   "source": [
    "llm_nim_application_yaml = f\"\"\"\n",
    "apiVersion: argoproj.io/v1alpha1\n",
    "kind: Application\n",
    "metadata:\n",
    "  name: llama3-1-8b-instruct\n",
    "  namespace: argocd\n",
    "spec:\n",
    "  project: default\n",
    "  sources:\n",
    "    - repoURL: '{git_repo_url_ssh}'\n",
    "      path: secrets/nvcr\n",
    "      targetRevision: main\n",
    "      directory:\n",
    "        recurse: true  \n",
    "    - repoURL: '{git_repo_url_ssh}'\n",
    "      path: k8s-manifests/llama3-1-8b-instruct\n",
    "      targetRevision: main\n",
    "      directory:\n",
    "        recurse: true  \n",
    "    - repoURL: '{git_repo_url_ssh}'\n",
    "      path: ingress/llama3-1-8b-instruct\n",
    "      targetRevision: main\n",
    "      directory:\n",
    "        recurse: true \n",
    "  destination:\n",
    "    server: 'https://kubernetes.default.svc'\n",
    "    namespace: llama3-1-8b-instruct\n",
    "  syncPolicy:\n",
    "    syncOptions:\n",
    "    - Validate=false\n",
    "    - CreateNamespace=true\n",
    "    automated:\n",
    "      prune: true\n",
    "      selfHeal: true\n",
    "      allowEmpty: false\n",
    "\"\"\"\n",
    "with open(f\"{applications_base_dir}/llama3-1-8b-instruct/app.yaml\", \"w\") as f:\n",
    "    f.write(llm_nim_application_yaml)"
   ]
  },
  {
   "cell_type": "markdown",
   "id": "882978d5-9953-4431-a8f8-8984aecdb5ce",
   "metadata": {},
   "source": [
    "### 4.3.4 Commit the added files"
   ]
  },
  {
   "cell_type": "code",
   "execution_count": null,
   "id": "ce817865-41d0-4bb0-84dc-322d8ac652ed",
   "metadata": {},
   "outputs": [],
   "source": [
    "!git config --global user.email $commit_email\n",
    "!git config --global user.name $commit_user\n",
    "!cd llmops-nvidia/ && git add . && git commit -m \"add llm nim llama3-1-8b-instruct\" && git push"
   ]
  },
  {
   "cell_type": "markdown",
   "id": "539abf2d-12d4-4c07-a530-0460a5923504",
   "metadata": {},
   "source": [
    "### 4.3.5 Sync vi UI\n",
    "As we have commit our code to Git, argocd usually sync automatically after every 5 minutes. But we can force it to sync either via UI or CLI. \n",
    "\n",
    "Here we use UI to sync. \n",
    "\n",
    "Click on the sycn button on the `argocd-components` application as shown in diagram. You will see `llama3-1-8b-instruct` application shown up\n",
    "\n",
    "<img src=\"./images-dli/sync-apps.png\" style=\"width: 435px; float: left\">\n",
    "<img src=\"./images-dli/llama3-1-8b-instruct.png\" style=\"width: 500px; float: right\">\n"
   ]
  },
  {
   "cell_type": "markdown",
   "id": "50b1c414-514b-43b1-9a87-e82bc8e704b3",
   "metadata": {},
   "source": [
    "### 4.3.6 Check applications via UI"
   ]
  },
  {
   "cell_type": "markdown",
   "id": "e6dfefe3-5e86-467d-871e-9d864cf4eb19",
   "metadata": {},
   "source": [
    "[Open ArgoCD!](/argocd/applications)\n"
   ]
  },
  {
   "cell_type": "markdown",
   "id": "d49a87a6-b6ff-47d5-b064-a4e23f9c8da2",
   "metadata": {},
   "source": [
    "<center><img src=\"./images-dli/argocd_nim.png\" style=\"width: 1000px;\"></center>\n"
   ]
  },
  {
   "cell_type": "markdown",
   "id": "90151661-5db2-45a7-b9bb-8293c03d15a8",
   "metadata": {},
   "source": [
    "## 4.4 Deploy Nemo Evaluator\n",
    "\n",
    "NVIDIA NeMo Evaluator is the one stop shop for evaluating your LLMs as part of the NeMo ecosystem. It enables real-time evaluations of your LLM application through APIs, guiding developers and researchers in refining and optimizing LLMs for enhanced performance and real-world applicability. The NeMo Evaluator APIs can be seamlessly automated within development pipelines, enabling faster iterations without the need for live data. It is cost effective and suitable for pre-deployment checks and regression testing.\n",
    "\n",
    "<center><img src=\"./images-dli/nemo_eval.png\" style=\"width: 800px;\"></center>\n",
    "\n",
    "    \n",
    "```NeMo Evaluator depends on NVIDIA NIM for LLMs and NeMo Data Store```\n",
    "\n",
    "A typical NeMo Evaluator workflow looks like the following:\n",
    "\n",
    "\n",
    "\n",
    "1. (Optional) If you are using a custom dataset for evaluation, upload it to NeMo Data Store before you run an evaluation.\n",
    "\n",
    "2. Create an evaluation target in NeMo Evaluator.\n",
    "\n",
    "3. Create an evaluation configuration in NeMo Evaluator.\n",
    "\n",
    "4. Run an evaluation job by submitting a request to NeMo Evaluator.\n",
    "\n",
    "    - NeMo Evaluator downloads custom data, if any, from NeMo Data Store.\n",
    "\n",
    "    - NeMo Evaluator runs inference with NIM for LLMs, Embeddings, and Reranking, depending on the model being evaluated.\n",
    "\n",
    "    - NeMo Evaluator writes the results, including generations, logs, and metrics to NeMo Data Store.\n",
    "\n",
    "    - NeMo Evaluator returns the results.\n",
    "\n",
    "5. Get your results."
   ]
  },
  {
   "cell_type": "markdown",
   "id": "85b106a3-758b-4a6b-9ff2-45bc45839098",
   "metadata": {},
   "source": [
    "### 4.4.1 Create Ingress YAML file"
   ]
  },
  {
   "cell_type": "code",
   "execution_count": null,
   "id": "49ae6389-90c1-437a-87ba-7ae4a53bad8d",
   "metadata": {},
   "outputs": [],
   "source": [
    "os.makedirs(f\"{ingress_base_dir}/nemo-evaluator\", exist_ok=True)"
   ]
  },
  {
   "cell_type": "code",
   "execution_count": null,
   "id": "85bb4a39-bc24-405a-969c-0ee56f4ef10d",
   "metadata": {},
   "outputs": [],
   "source": [
    "evaluator_store_ingress_yaml = f\"\"\"\n",
    "apiVersion: networking.k8s.io/v1\n",
    "kind: Ingress\n",
    "metadata:\n",
    "  name: nemo-evaluator-ingress\n",
    "  annotations:\n",
    "    nginx.ingress.kubernetes.io/rewrite-target: /\n",
    "spec:\n",
    "  rules:\n",
    "    - host: nemo-evaluator.local\n",
    "      http:\n",
    "        paths:\n",
    "          - path: /\n",
    "            pathType: Prefix\n",
    "            backend:\n",
    "              service:\n",
    "                name: nemo-evaluator\n",
    "                port:\n",
    "                  number: 7331\n",
    "\"\"\"\n",
    "with open(f\"{ingress_base_dir}/nemo-evaluator/ingress.yaml\", \"w\") as f:\n",
    "    f.write(evaluator_store_ingress_yaml)"
   ]
  },
  {
   "cell_type": "markdown",
   "id": "07d8cdd3-d820-4dbd-8312-5e15315975a8",
   "metadata": {},
   "source": [
    "### 4.4.2 Create Application YAML file"
   ]
  },
  {
   "cell_type": "code",
   "execution_count": null,
   "id": "f2b71f5d-9063-482e-97b7-d873c6373ee1",
   "metadata": {},
   "outputs": [],
   "source": [
    "os.makedirs(f\"{applications_base_dir}/nemo-evaluator\", exist_ok=True)"
   ]
  },
  {
   "cell_type": "code",
   "execution_count": null,
   "id": "14080db5-93c8-4152-965b-70517fab321a",
   "metadata": {},
   "outputs": [],
   "source": [
    "evaluator_application_yaml = f\"\"\"\n",
    "apiVersion: argoproj.io/v1alpha1\n",
    "kind: Application\n",
    "metadata:\n",
    "  name: nemo-evaluator\n",
    "  namespace: argocd\n",
    "spec:\n",
    "  project: default\n",
    "  sources:\n",
    "    - chart: nemo-evaluator\n",
    "      repoURL: 'docker-registry.registry.svc.cluster.local/nvidia/nemo-microservices/charts'\n",
    "      targetRevision: \"0.1.19\"\n",
    "      helm:\n",
    "        releaseName: nemo-evaluator\n",
    "        valuesObject:\n",
    "          image:\n",
    "            repository: {minikube_ip}:30500/nvidia/nemo-microservices/evaluation-ms\n",
    "            tag: 25.01\n",
    "          imagePullSecrets:\n",
    "            - name: nvcrimagepullsecret\n",
    "          argoWorkflows:\n",
    "            enabled: false\n",
    "          external:\n",
    "            dataStore:\n",
    "              endpoint: \"http://nemo-datastore.nemo-datastore.svc.cluster.local:3000/v1/hf\"\n",
    "            argoWorkflows:\n",
    "              endpoint: \"http://argo-workflows-server.argoworkflows.svc.cluster.local:2746\"\n",
    "            milvus:\n",
    "              endpoint: \"http://milvus.milvus.svc.cluster.local:19530\"\n",
    "            postgres:\n",
    "              host: \"postgresql.postgresql.svc.cluster.local\"\n",
    "              port: 5432\n",
    "              auth:\n",
    "                username: \"nemo-user\"\n",
    "                database: \"evaluation\"\n",
    "                existingSecret: \"existing-postgres-auth-secret\"\n",
    "                secretKeys:\n",
    "                  userPasswordKey: \"postgresql-admin-password\"\n",
    "          milvus:\n",
    "            enabled: false\n",
    "          postgresql:\n",
    "            enabled: false\n",
    "          argoServiceAccount:\n",
    "            create: true\n",
    "            name: workflow-executor\n",
    "\n",
    "    - repoURL: '{git_repo_url_ssh}'\n",
    "      path: secrets/postgres\n",
    "      targetRevision: main\n",
    "      directory:\n",
    "        recurse: true   \n",
    "    - repoURL: '{git_repo_url_ssh}'\n",
    "      path: secrets/nvcr\n",
    "      targetRevision: main\n",
    "      directory:\n",
    "        recurse: true  \n",
    "    - repoURL: '{git_repo_url_ssh}'\n",
    "      path: ingress/nemo-evaluator\n",
    "      targetRevision: main\n",
    "      directory:\n",
    "        recurse: true \n",
    "  destination:\n",
    "    server: 'https://kubernetes.default.svc'\n",
    "    namespace: nemo-evaluator\n",
    "  syncPolicy:\n",
    "    syncOptions:\n",
    "    - Validate=false\n",
    "    - CreateNamespace=true\n",
    "    automated:\n",
    "      prune: true\n",
    "      selfHeal: true\n",
    "      allowEmpty: false\n",
    "\"\"\"\n",
    "with open(f\"{applications_base_dir}/nemo-evaluator/app.yaml\", \"w\") as f:\n",
    "    f.write(evaluator_application_yaml)"
   ]
  },
  {
   "cell_type": "markdown",
   "id": "e9ab2ff8-40ef-4ed2-adc6-802676314040",
   "metadata": {},
   "source": [
    "### 4.4.3 Commit the added files"
   ]
  },
  {
   "cell_type": "code",
   "execution_count": null,
   "id": "9a8ffc5d-cd8d-4c63-b528-870963a07c12",
   "metadata": {},
   "outputs": [],
   "source": [
    "!git config --global user.email $commit_email\n",
    "!git config --global user.name $commit_user\n",
    "!cd llmops-nvidia/ && git add . && git commit -m \"add nemo-evaluator\" && git push"
   ]
  },
  {
   "cell_type": "markdown",
   "id": "f15a91cb-d51e-4f66-b030-d71f42b0a6de",
   "metadata": {},
   "source": [
    "### 4.4.4 Sync vi UI\n",
    "As we have commit our code to Git, argocd usually sync automatically after every 5 minutes. But we can force it to sync either via UI or CLI. \n",
    "\n",
    "Here we use UI to sync. \n",
    "\n",
    "Click on the sycn button on the `argocd-components` application as shown in diagram. You will see `nemo-evaluator` application shown up\n",
    "\n",
    "<img src=\"./images-dli/sync-apps.png\" style=\"width: 435px; float: left\">\n",
    "<img src=\"./images-dli/nemo-evaluator.png\" style=\"width: 500px; float: right\">\n"
   ]
  },
  {
   "cell_type": "markdown",
   "id": "430052be-1d23-4265-ac94-aed39032090b",
   "metadata": {},
   "source": [
    "### 4.4.5 Check applications via UI\n",
    "\n",
    "[Open ArgoCD!](/argocd/applications)\n",
    "\n",
    "<center><img src=\"./images-dli/argocd_app_evaluator.png\" style=\"width: 1000px;\"></center>\n",
    "\n"
   ]
  },
  {
   "cell_type": "markdown",
   "id": "34b6dcbb-74d1-47d5-92bc-8861160ffbad",
   "metadata": {},
   "source": [
    "## 4.5 Deploy Nemo Customizer\n",
    "\n",
    "<center><img src=\"./images-dli/nemo_customizer.png\" style=\"width: 800px;\"></center>\n",
    "\n",
    "NVIDIA NeMo Customizer (NeMo Customizer) gives you the power to take the state-of-the-art large language models and condition them to your application needs. You can balance your compute requirements with your particular performance needs by selecting among a range of models, model sizes and fine-tuning techniques. NeMo Customizer creates models that can easily integrate with NVIDIA NIM for LLMs. \n",
    "\n",
    "\n"
   ]
  },
  {
   "cell_type": "code",
   "execution_count": null,
   "id": "3a21d46a-4035-40e3-ae06-bfce76dda9c9",
   "metadata": {},
   "outputs": [],
   "source": [
    "os.makedirs(f\"llmops-nvidia/k8s-manifests/nemo-customizer\", exist_ok=True)"
   ]
  },
  {
   "cell_type": "markdown",
   "id": "2884bd32-e125-40ca-9503-2af9f9faa1c8",
   "metadata": {},
   "source": [
    "### 4.5.1 Create PV YAML file"
   ]
  },
  {
   "cell_type": "code",
   "execution_count": null,
   "id": "c0adb67b-f3e5-444b-b2c4-e55e7ac0894f",
   "metadata": {},
   "outputs": [],
   "source": [
    "customizer_pv_yaml = f\"\"\"\n",
    "kind: PersistentVolume\n",
    "apiVersion: v1\n",
    "metadata:\n",
    "  name: finetuning-ms-models-pv\n",
    "  labels:\n",
    "    type: local\n",
    "spec:\n",
    "  capacity:\n",
    "    storage: \"50Gi\"\n",
    "  storageClassName: manual\n",
    "  accessModes:\n",
    "    - \"ReadWriteMany\"\n",
    "  persistentVolumeReclaimPolicy: Retain\n",
    "  claimRef:\n",
    "    namespace: nemo-customizer\n",
    "    name: finetuning-ms-models-pvc\n",
    "  hostPath:\n",
    "    path: \"/finetuning-ms-models\"\n",
    "\n",
    "\"\"\"\n",
    "with open(\"llmops-nvidia/k8s-manifests/nemo-customizer/pv.yaml\", \"w\") as f:\n",
    "    f.write(customizer_pv_yaml)"
   ]
  },
  {
   "cell_type": "markdown",
   "id": "9b8f92fa-cf40-4105-ac52-ac23b9537702",
   "metadata": {},
   "source": [
    "### 4.5.2 Create Ingress YAML file"
   ]
  },
  {
   "cell_type": "code",
   "execution_count": null,
   "id": "1d195c36-389c-41b7-8f0b-9ff8aa02fb1c",
   "metadata": {},
   "outputs": [],
   "source": [
    "os.makedirs(f\"{ingress_base_dir}/nemo-customizer\", exist_ok=True)"
   ]
  },
  {
   "cell_type": "code",
   "execution_count": null,
   "id": "c770e82e-a214-44f4-8653-90c3e4c45f20",
   "metadata": {},
   "outputs": [],
   "source": [
    "customizer_ingress_yaml = f\"\"\"\n",
    "apiVersion: networking.k8s.io/v1\n",
    "kind: Ingress\n",
    "metadata:\n",
    "  name: nemo-customizer-ingress\n",
    "  annotations:\n",
    "    nginx.ingress.kubernetes.io/rewrite-target: /\n",
    "spec:\n",
    "  rules:\n",
    "    - host: nemo-customizer.local\n",
    "      http:\n",
    "        paths:\n",
    "          - path: /\n",
    "            pathType: Prefix\n",
    "            backend:\n",
    "              service:\n",
    "                name: nemo-customizer-api \n",
    "                port:\n",
    "                  number: 8000\n",
    "\"\"\"\n",
    "with open(f\"{ingress_base_dir}/nemo-customizer/ingress.yaml\", \"w\") as f:\n",
    "    f.write(customizer_ingress_yaml)"
   ]
  },
  {
   "cell_type": "markdown",
   "id": "5b85a733-72ba-4a66-9ae7-884ff1592b57",
   "metadata": {},
   "source": [
    "### 4.5.3 Create Application YAML file"
   ]
  },
  {
   "cell_type": "code",
   "execution_count": null,
   "id": "6b699a8f-173b-48c5-a990-2023436c9b3b",
   "metadata": {},
   "outputs": [],
   "source": [
    "os.makedirs(f\"{applications_base_dir}/nemo-customizer\", exist_ok=True)"
   ]
  },
  {
   "cell_type": "code",
   "execution_count": null,
   "id": "4c4f7ac9-2046-402f-969c-941d4e345690",
   "metadata": {},
   "outputs": [],
   "source": [
    "customizer_application_yaml = f\"\"\"\n",
    "apiVersion: argoproj.io/v1alpha1\n",
    "kind: Application\n",
    "metadata:\n",
    "  name: nemo-customizer\n",
    "  namespace: argocd\n",
    "spec:\n",
    "  project: default\n",
    "  sources:\n",
    "    - chart: nemo-customizer\n",
    "      repoURL: 'docker-registry.registry.svc.cluster.local/nvidia/nemo-microservices/charts'\n",
    "      targetRevision: \"0.9.0-alpha.22\"\n",
    "      helm:\n",
    "        releaseName: nemo-customizer\n",
    "        valuesObject:\n",
    "          global:\n",
    "            imagePullSecrets:\n",
    "              - name: nvcrimagepullsecret\n",
    "            storageClass: \"standard\"\n",
    "\n",
    "          # This needs only one install per cluster\n",
    "          volcano:\n",
    "            enabled: false\n",
    "\n",
    "          # Configure the PVC for models mount, where we store the parent/base models.\n",
    "          modelsStorage:\n",
    "            enabled: true\n",
    "            storageClassName: \"manual\"\n",
    "            size: 50Gi\n",
    "            accessModes:\n",
    "              - ReadWriteMany\n",
    "          # Configure the PVC for a training job's workspace, where we store the checkpoints and fine-tuned model.\n",
    "          workspaceStorage:\n",
    "            enabled: true\n",
    "            storageClassName: \"standard\"\n",
    "            size: 50Gi\n",
    "            accessModes:\n",
    "              - ReadWriteMany\n",
    "\n",
    "          postgresql:\n",
    "            # Tells our Helm chart to leverage the information in externalDatabase instead.\n",
    "            enabled: false\n",
    "          image:\n",
    "            registry: {minikube_ip}:30500\n",
    "            repository: nvidia/nemo-microservices/customizer\n",
    "            tag: 25.01\n",
    "\n",
    "          customizerConfig:\n",
    "            nemoOperatorURL: \"http://nemo-deployment-management.nemo-deployment-management.svc.cluster.local:8000\"\n",
    "            nemoDataStoreURL: \"http://nemo-datastore.nemo-datastore.svc.cluster.local:3000\"\n",
    "            entityStoreURL: \"http://nemo-entity-store.nemo-entity-store.svc.cluster.local:8000\"\n",
    "            mlflowURL: \"http://mlflow-tracking.mlflow.svc.cluster.local:80\"\n",
    "            models:\n",
    "              meta/llama-3.1-8b-instruct:\n",
    "                # dataStoreURL is the internal K8s DNS record for the Data Store service.\n",
    "                enabled: true\n",
    "                model_path: llama-3_1-8b-instruct\n",
    "                finetuning_types:\n",
    "                  - lora\n",
    "                num_gpus: 1\n",
    "                micro_batch_size: 1\n",
    "                tensor_parallel_size: 1\n",
    "                max_seq_length: 4096\n",
    "            training:\n",
    "              pvc:\n",
    "                storageClass: \"standard\"\n",
    "\n",
    "          nemoDataStoreTools:\n",
    "            registry: {minikube_ip}:30500\n",
    "            repository: nvidia/nemo-microservices/nds-v2-huggingface-cli\n",
    "            tag: 25.01\n",
    "            pullSecrets:\n",
    "            - name: nvcrimagepullsecret\n",
    "\n",
    "          # Configure the custom volcano scheduling queue\n",
    "          customizerQueue:\n",
    "            weight: 5\n",
    "            capability:\n",
    "              nvidiaGPU: 4\n",
    "              mlnxnics: 8\n",
    "\n",
    "          externalDatabase:\n",
    "            host: postgresql.postgresql.svc.cluster.local\n",
    "            port: 5432\n",
    "            user: nemo-user\n",
    "            database: finetuning\n",
    "            existingSecret: \"existing-postgres-auth-secret\" \n",
    "            existingSecretPasswordKey: \"postgresql-user-password\" \n",
    "    - repoURL: '{git_repo_url_ssh}'\n",
    "      path: k8s-manifests/nemo-customizer\n",
    "      targetRevision: main\n",
    "      directory:\n",
    "        recurse: true  \n",
    "    - repoURL: '{git_repo_url_ssh}'\n",
    "      path: secrets/postgres\n",
    "      targetRevision: main\n",
    "      directory:\n",
    "        recurse: true   \n",
    "    - repoURL: '{git_repo_url_ssh}'\n",
    "      path: secrets/nvcr\n",
    "      targetRevision: main\n",
    "      directory:\n",
    "        recurse: true  \n",
    "    - repoURL: '{git_repo_url_ssh}'\n",
    "      path: ingress/nemo-customizer\n",
    "      targetRevision: main\n",
    "      directory:\n",
    "        recurse: true \n",
    "  destination:\n",
    "    server: 'https://kubernetes.default.svc'\n",
    "    namespace: nemo-customizer\n",
    "  syncPolicy:\n",
    "    syncOptions:\n",
    "    - Validate=false\n",
    "    - CreateNamespace=true\n",
    "    automated:\n",
    "      prune: true\n",
    "      selfHeal: true\n",
    "      allowEmpty: false\n",
    "\"\"\"\n",
    "with open(f\"{applications_base_dir}/nemo-customizer/app.yaml\", \"w\") as f:\n",
    "    f.write(customizer_application_yaml)"
   ]
  },
  {
   "cell_type": "markdown",
   "id": "2a3b1cf7-68f8-4626-9942-c8fde6fcc737",
   "metadata": {},
   "source": [
    "### 4.5.4 Commit the added files"
   ]
  },
  {
   "cell_type": "code",
   "execution_count": null,
   "id": "ea617ccf-3d53-4e3f-9e16-4b20608fff7e",
   "metadata": {},
   "outputs": [],
   "source": [
    "!git config --global user.email $commit_email\n",
    "!git config --global user.name $commit_user\n",
    "!cd llmops-nvidia/ && git add . && git commit -m \"add nemo-customizer\" && git push"
   ]
  },
  {
   "cell_type": "markdown",
   "id": "cb5d89a3-1fb8-474a-b61f-5a992fbbea5a",
   "metadata": {},
   "source": [
    "### 4.5.5 Sync vi UI\n",
    "As we have commit our code to Git, argocd usually sync automatically after every 5 minutes. But we can force it to sync either via UI or CLI. \n",
    "\n",
    "Here we use UI to sync. \n",
    "\n",
    "Click on the sycn button on the `argocd-components` application as shown in diagram. You will see `nemo-customizer` application shown up\n",
    "\n",
    "<img src=\"./images-dli/sync-apps.png\" style=\"width: 435px; float: left\">\n",
    "<img src=\"./images-dli/nemo-customizer-app.png\" style=\"width: 500px; float: right\">\n"
   ]
  },
  {
   "cell_type": "markdown",
   "id": "ef37ae0b-05d3-401e-bb18-07c6965a64bd",
   "metadata": {},
   "source": [
    "### 4.5.6 Check applications via UI\n",
    "\n",
    "[Open ArgoCD!](/argocd/applications)\n",
    "\n",
    "<center><img src=\"./images-dli/argocd_app_customizer.png\" style=\"width: 1000px;\"></center>\n",
    "\n"
   ]
  },
  {
   "cell_type": "markdown",
   "id": "0fbb9a4c-cd07-45c0-94dd-95be5c8795f2",
   "metadata": {},
   "source": [
    "## 4.6 Add FQDN of Nemo Microservices for Ingress"
   ]
  },
  {
   "cell_type": "markdown",
   "id": "49fe1c6b-e610-4e8f-a849-c635332f5c61",
   "metadata": {},
   "source": [
    "### 4.6.1 Check all ingress\n",
    "\n",
    "Example output:\n",
    "```\n",
    "NAMESPACE              NAME                           CLASS   HOSTS                        ADDRESS        PORTS   AGE\n",
    "llama3-1-8b-instruct   llama3-1-8b-instruct-ingress   nginx   llama3-1-8b-instruct.local   192.168.49.2   80      9m3s\n",
    "minio                  minio-ingress                  nginx   minio.local                  192.168.49.2   80      63m\n",
    "nemo-customizer        nemo-customizer-ingress        nginx   nemo-customizer.local        192.168.49.2   80      76s\n",
    "nemo-datastore         nemo-datastore-ingress         nginx   nemo-datastore.local         192.168.49.2   80      48m\n",
    "nemo-entity-store      nemo-entity-store-ingress      nginx   nemo-entity-store.local      192.168.49.2   80      12m\n",
    "nemo-evaluator         nemo-evaluator-ingress         nginx   nemo-evaluator.local         192.168.49.2   80      3m32s\n",
    "```"
   ]
  },
  {
   "cell_type": "code",
   "execution_count": null,
   "id": "c0fe8cac-597e-4409-92c4-fdcfe74ed716",
   "metadata": {},
   "outputs": [],
   "source": [
    "!kubectl get ingress -A"
   ]
  },
  {
   "cell_type": "markdown",
   "id": "1b450b80-929a-4561-bbc3-3a062aac7cc5",
   "metadata": {},
   "source": [
    "### 4.6.2 Add FQDN to /etc/hosts (workaround for lab)"
   ]
  },
  {
   "cell_type": "code",
   "execution_count": null,
   "id": "ccd04606-09e1-40d2-9d71-39bdeec333fa",
   "metadata": {},
   "outputs": [],
   "source": [
    "!echo \"$(minikube ip) minio.local\" | sudo tee -a /etc/hosts\n",
    "!echo \"$(minikube ip) nemo-datastore.local\" | sudo tee -a /etc/hosts\n",
    "!echo \"$(minikube ip) nemo-entity-store.local\" | sudo tee -a /etc/hosts\n",
    "!echo \"$(minikube ip) llama3-1-8b-instruct.local\" | sudo tee -a /etc/hosts\n",
    "!echo \"$(minikube ip) nemo-evaluator.local\" | sudo tee -a /etc/hosts\n",
    "!echo \"$(minikube ip) nemo-customizer.local\" | sudo tee -a /etc/hosts\n"
   ]
  },
  {
   "cell_type": "markdown",
   "id": "7173af4c-72e4-49c4-87de-9eecdfb9cace",
   "metadata": {},
   "source": [
    "### 4.6.3 Check /etc/hosts"
   ]
  },
  {
   "cell_type": "code",
   "execution_count": null,
   "id": "8de4ad86-ecc1-442a-a417-da20c8ae7cc2",
   "metadata": {},
   "outputs": [],
   "source": [
    "!cat /etc/hosts"
   ]
  },
  {
   "cell_type": "markdown",
   "id": "dc626235-3aec-4f93-b523-3c7a567c648c",
   "metadata": {},
   "source": [
    "---\n",
    "<h2 style=\"color:green;\">Congratulations!</h2>\n",
    "\n",
    "You've made it through the fourth Notebook. In this notebook, you have:\n",
    "- Deployed various Nemo Micrsoservices as ArgoCD applications\n",
    "\n",
    "Next, you'll see learn to finetune a foundation model using Nemo Microservices .\n",
    "\n",
    "Move on to [05_Fine_Tuning_Nemo_MS.ipynb](05_Fine_Tuning_Nemo_MS.ipynb)"
   ]
  },
  {
   "cell_type": "markdown",
   "id": "9382f1d8-1c49-4789-846d-5dad36506883",
   "metadata": {},
   "source": [
    "<a href=\"https://www.nvidia.com/dli\"> <img src=\"images/DLI_Header.png\" alt=\"Header\" style=\"width: 400px;\"/> </a>"
   ]
  }
 ],
 "metadata": {
  "kernelspec": {
   "display_name": "Python 3 (ipykernel)",
   "language": "python",
   "name": "python3"
  },
  "language_info": {
   "codemirror_mode": {
    "name": "ipython",
    "version": 3
   },
   "file_extension": ".py",
   "mimetype": "text/x-python",
   "name": "python",
   "nbconvert_exporter": "python",
   "pygments_lexer": "ipython3",
   "version": "3.10.12"
  }
 },
 "nbformat": 4,
 "nbformat_minor": 5
}
